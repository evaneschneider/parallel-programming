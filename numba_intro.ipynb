{
  "nbformat": 4,
  "nbformat_minor": 0,
  "metadata": {
    "colab": {
      "name": "numba_intro.ipynb",
      "version": "0.3.2",
      "provenance": [],
      "include_colab_link": true
    },
    "kernelspec": {
      "name": "python3",
      "display_name": "Python 3"
    }
  },
  "cells": [
    {
      "cell_type": "markdown",
      "metadata": {
        "id": "view-in-github",
        "colab_type": "text"
      },
      "source": [
        "<a href=\"https://colab.research.google.com/github/evaneschneider/parallel-programming/blob/master/numba_intro.ipynb\" target=\"_parent\"><img src=\"https://colab.research.google.com/assets/colab-badge.svg\" alt=\"Open In Colab\"/></a>"
      ]
    },
    {
      "metadata": {
        "id": "cBAVRqT-D8JR",
        "colab_type": "code",
        "colab": {}
      },
      "cell_type": "code",
      "source": [
        "%matplotlib inline\n",
        "import matplotlib.pylab as plt\n",
        "import numpy as np\n",
        "import math\n",
        "from numba import jit, njit"
      ],
      "execution_count": 0,
      "outputs": []
    },
    {
      "metadata": {
        "id": "SgFcESP_EaNv",
        "colab_type": "text"
      },
      "cell_type": "markdown",
      "source": [
        "###Problem 1 - A First Numba Function\n",
        "\n",
        "**1a)** To start our exploration of Numba's features, let's write a python function to add two numbers. We'll creatively name it `add`:"
      ]
    },
    {
      "metadata": {
        "id": "yzKiUuSjEeDy",
        "colab_type": "code",
        "colab": {}
      },
      "cell_type": "code",
      "source": [
        "def add(x, y):\n",
        "  return x + y # add code here"
      ],
      "execution_count": 0,
      "outputs": []
    },
    {
      "metadata": {
        "id": "2Fnz9vr0FG7k",
        "colab_type": "text"
      },
      "cell_type": "markdown",
      "source": [
        "Now, let's test the function, first with two scalars:"
      ]
    },
    {
      "metadata": {
        "id": "o13KJoxJFDyD",
        "colab_type": "code",
        "colab": {
          "base_uri": "https://localhost:8080/",
          "height": 34
        },
        "outputId": "d4ffe44f-8f51-41b2-845f-e51041430989"
      },
      "cell_type": "code",
      "source": [
        "add(1, 2)"
      ],
      "execution_count": 55,
      "outputs": [
        {
          "output_type": "execute_result",
          "data": {
            "text/plain": [
              "3"
            ]
          },
          "metadata": {
            "tags": []
          },
          "execution_count": 55
        }
      ]
    },
    {
      "metadata": {
        "id": "7HdCKleiFd6r",
        "colab_type": "text"
      },
      "cell_type": "markdown",
      "source": [
        "**1b)** With numpy, we can use our function to add not just scalars, but vectors as well:"
      ]
    },
    {
      "metadata": {
        "id": "EWwdk1dYE5pN",
        "colab_type": "code",
        "colab": {
          "base_uri": "https://localhost:8080/",
          "height": 34
        },
        "outputId": "78e9982f-9387-4fea-bc24-9db93157bbc0"
      },
      "cell_type": "code",
      "source": [
        "a = np.arange(0,10)\n",
        "b = np.arange(1,11)\n",
        "\n",
        "add(a, b) # add code here"
      ],
      "execution_count": 62,
      "outputs": [
        {
          "output_type": "execute_result",
          "data": {
            "text/plain": [
              "array([ 1,  3,  5,  7,  9, 11, 13, 15, 17, 19])"
            ]
          },
          "metadata": {
            "tags": []
          },
          "execution_count": 62
        }
      ]
    },
    {
      "metadata": {
        "id": "QQx121wWGD_Y",
        "colab_type": "text"
      },
      "cell_type": "markdown",
      "source": [
        "#### Profiling\n",
        "A central feature of parallel programming, numba, and writing efficient code more generally is **profiling**, or understanding how long various pieces of your program take. Profiling tools are becoming ever more sophisticated, but for today we're going to stick with the tried-and-true method of timing things. An easy way to do this in python is using the `%timeit` magic function. Let's try it out on our addition function:"
      ]
    },
    {
      "metadata": {
        "id": "XC1o2Ki8Fx2U",
        "colab_type": "code",
        "colab": {
          "base_uri": "https://localhost:8080/",
          "height": 34
        },
        "outputId": "c8c66ed5-d91e-41fd-d3c9-e58b6e8a4682"
      },
      "cell_type": "code",
      "source": [
        "%timeit add(1,2)"
      ],
      "execution_count": 64,
      "outputs": [
        {
          "output_type": "stream",
          "text": [
            "87.3 ns ± 1.11 ns per loop (mean ± std. dev. of 7 runs, 10000000 loops each)\n"
          ],
          "name": "stdout"
        }
      ]
    },
    {
      "metadata": {
        "id": "krQ0FwkjGw-_",
        "colab_type": "text"
      },
      "cell_type": "markdown",
      "source": [
        "What's going on here? `%timeit` is running our function many times, and then reporting the average time it takes to run a million loops. This is generally a better approach than timing a single function execution, because it accounts for random events that may cause any given run to perform poorly."
      ]
    },
    {
      "metadata": {
        "id": "0xXjAFh-MXiv",
        "colab_type": "text"
      },
      "cell_type": "markdown",
      "source": [
        "**1c)** Compare the time it takes to run your function with array arguments, then your function vs python's add function (the standard ''+'' operator)."
      ]
    },
    {
      "metadata": {
        "id": "3AgB0xKOHjcS",
        "colab_type": "code",
        "colab": {
          "base_uri": "https://localhost:8080/",
          "height": 51
        },
        "outputId": "de0fe678-2bd6-4649-86be-91aee8036993"
      },
      "cell_type": "code",
      "source": [
        "%timeit add(a, b) # add code here\n",
        "%timeit a + b # add code here"
      ],
      "execution_count": 65,
      "outputs": [
        {
          "output_type": "stream",
          "text": [
            "505 ns ± 10.2 ns per loop (mean ± std. dev. of 7 runs, 1000000 loops each)\n",
            "425 ns ± 2.92 ns per loop (mean ± std. dev. of 7 runs, 1000000 loops each)\n"
          ],
          "name": "stdout"
        }
      ]
    },
    {
      "metadata": {
        "id": "Jwqy1reHM0nA",
        "colab_type": "text"
      },
      "cell_type": "markdown",
      "source": [
        "Okay, so our function has a little additional overhead, but it's not too bad. Now, let's see if numba can improve things for us. Let's use Numba's `jit` function to create a numba version of our addition function."
      ]
    },
    {
      "metadata": {
        "id": "SfnuyYZ1MjxR",
        "colab_type": "code",
        "colab": {}
      },
      "cell_type": "code",
      "source": [
        "numba_add = jit(add)"
      ],
      "execution_count": 0,
      "outputs": []
    },
    {
      "metadata": {
        "id": "FW3GvGwKkawy",
        "colab_type": "text"
      },
      "cell_type": "markdown",
      "source": [
        "More commonly, you will use `jit` as a decorator, by adding `@jit` to the line above your function definition, but the above version shows you that at heart, `@jit` is just a python function that takes other functions as its argument! By default, a Numba function saves the original python version of the function in the variable `py_func`. You can check that the original version gives you the same answer:"
      ]
    },
    {
      "metadata": {
        "id": "XS0-gUOWN12L",
        "colab_type": "code",
        "colab": {
          "base_uri": "https://localhost:8080/",
          "height": 34
        },
        "outputId": "c0198398-d083-45d2-d694-cb0c5404f409"
      },
      "cell_type": "code",
      "source": [
        "numba_add.py_func(a,b)"
      ],
      "execution_count": 59,
      "outputs": [
        {
          "output_type": "execute_result",
          "data": {
            "text/plain": [
              "array([10, 12, 14, 16, 18, 20, 22, 24, 26, 28])"
            ]
          },
          "metadata": {
            "tags": []
          },
          "execution_count": 59
        }
      ]
    },
    {
      "metadata": {
        "id": "YsZ_clWelcVJ",
        "colab_type": "text"
      },
      "cell_type": "markdown",
      "source": [
        "Now, let's see how fast our pre-compiled addition function goes."
      ]
    },
    {
      "metadata": {
        "id": "pqNzG9mhN-lp",
        "colab_type": "code",
        "colab": {
          "base_uri": "https://localhost:8080/",
          "height": 34
        },
        "outputId": "628684fb-4363-4851-e5ff-bb8f5f1a700d"
      },
      "cell_type": "code",
      "source": [
        "%timeit numba_add(a,b)"
      ],
      "execution_count": 60,
      "outputs": [
        {
          "output_type": "stream",
          "text": [
            "841 ns ± 14.2 ns per loop (mean ± std. dev. of 7 runs, 1000000 loops each)\n"
          ],
          "name": "stdout"
        }
      ]
    },
    {
      "metadata": {
        "id": "pgDvbPLml3Dm",
        "colab_type": "text"
      },
      "cell_type": "markdown",
      "source": [
        "Our new compiled function is running even slower! What's going on here?"
      ]
    },
    {
      "metadata": {
        "id": "szNrfvJxl_Vj",
        "colab_type": "text"
      },
      "cell_type": "markdown",
      "source": [
        "### Problem 2 - A Better Numba Function\n",
        "\n",
        "**2a)** As we saw in the first example, Numba isn't going to speed up everything. Generally, Numba will help you most in circumstances where python's line-by-line interperability is slowing it down. We can use a slightly more complicated function to explore this. The following is a function to calculate the hypotenuse of two numbers, that is designed to compensate the computer's finite precision representation of numbers. Use the `@jit` decorate to generate a Numba version of this function."
      ]
    },
    {
      "metadata": {
        "id": "VNDuzJvGlkfg",
        "colab_type": "code",
        "colab": {}
      },
      "cell_type": "code",
      "source": [
        "@jit # add code here\n",
        "def hypotenuse(x, y):\n",
        "  # Implementation from https://en.wikipedia.org/wiki/Hypot\n",
        "  x = abs(x);\n",
        "  y = abs(y);\n",
        "  t = min(x, y);\n",
        "  x = max(x, y);\n",
        "  t = t / x;\n",
        "  return x * math.sqrt(1+t*t)"
      ],
      "execution_count": 0,
      "outputs": []
    },
    {
      "metadata": {
        "id": "52cFaUWboRZO",
        "colab_type": "text"
      },
      "cell_type": "markdown",
      "source": [
        "**2b)** Use the `%timeit` function to determine whether the Numba version of the hyptonenuse function is better than the original Python implementation."
      ]
    },
    {
      "metadata": {
        "id": "HS7QNmoUmcYG",
        "colab_type": "code",
        "colab": {
          "base_uri": "https://localhost:8080/",
          "height": 51
        },
        "outputId": "63254b03-eb0e-41fb-fdf3-5e3932af8d8d"
      },
      "cell_type": "code",
      "source": [
        "%timeit hypotenuse(3,4)\n",
        "%timeit hypotenuse.py_func(3,4)"
      ],
      "execution_count": 70,
      "outputs": [
        {
          "output_type": "stream",
          "text": [
            "169 ns ± 2.25 ns per loop (mean ± std. dev. of 7 runs, 10000000 loops each)\n",
            "662 ns ± 8.21 ns per loop (mean ± std. dev. of 7 runs, 1000000 loops each)\n"
          ],
          "name": "stdout"
        }
      ]
    },
    {
      "metadata": {
        "id": "0ZQmD-3Ho5oJ",
        "colab_type": "text"
      },
      "cell_type": "markdown",
      "source": [
        "**2c)** Numba functions can call other functions, provided they are also Numba functions. Below is a function that loops through two numpy arrays and puts their sum into an output array. Modify the following function to calculate the hypotenuse instead."
      ]
    },
    {
      "metadata": {
        "id": "0gO3Pxqbo4Nz",
        "colab_type": "code",
        "colab": {}
      },
      "cell_type": "code",
      "source": [
        "@njit # this is an alias for @jit(nopython=True)\n",
        "def ex_func(x, y, out):\n",
        "  for i in range(x.shape[0]):\n",
        "    out[i] = hypot(x[i], y[i]) # change this line"
      ],
      "execution_count": 0,
      "outputs": []
    },
    {
      "metadata": {
        "id": "m62ZUF84opUb",
        "colab_type": "code",
        "colab": {
          "base_uri": "https://localhost:8080/",
          "height": 85
        },
        "outputId": "8b1f5ba3-9eee-4b37-eba8-00edab274a75"
      },
      "cell_type": "code",
      "source": [
        "in1 = np.arange(10, dtype=np.float64)\n",
        "in2 = 2 * in1 + 1\n",
        "out = np.empty_like(in1)\n",
        "\n",
        "print('in1:', in1)\n",
        "print('in2:', in2)\n",
        "\n",
        "ex_func(in1, in2, out)\n",
        "\n",
        "print('out:', out)"
      ],
      "execution_count": 72,
      "outputs": [
        {
          "output_type": "stream",
          "text": [
            "in1: [0. 1. 2. 3. 4. 5. 6. 7. 8. 9.]\n",
            "in2: [ 1.  3.  5.  7.  9. 11. 13. 15. 17. 19.]\n",
            "out: [ 1.          3.16227766  5.38516481  7.61577311  9.8488578  12.08304597\n",
            " 14.31782106 16.55294536 18.78829423 21.02379604]\n"
          ],
          "name": "stdout"
        }
      ]
    },
    {
      "metadata": {
        "id": "zhO1-4Das9cm",
        "colab_type": "text"
      },
      "cell_type": "markdown",
      "source": [
        "###Problem 3 - The Julia Set\n",
        "Now that we've got the basics of the Numba `jit` decorator down, let's have a little fun. A classic example problem in parallel programming is the calculation of a fractal (you'll see why tomorrow). Below is some code that calculates whether a numbers is a member of the Julia set, and then computes the set on a discrete domain. Modify the code to use Numba and test how much faster it is than the original python implementation."
      ]
    },
    {
      "metadata": {
        "id": "XormIu6WqCOa",
        "colab_type": "code",
        "colab": {}
      },
      "cell_type": "code",
      "source": [
        "@njit # add code here\n",
        "def julia(x, y, max_iters):\n",
        "    \"\"\"\n",
        "    Given the real and imaginary parts of a complex number,\n",
        "    determine if it is a candidate for membership in the Julia\n",
        "    set given a fixed number of iterations.\n",
        "    \"\"\"\n",
        "    i = 0\n",
        "    c = complex(-0.8, 0.156)\n",
        "    a = complex(x,y)\n",
        "    for i in range(max_iters):\n",
        "        a = a*a + c\n",
        "        if (a.real*a.real + a.imag*a.imag) > 1000:\n",
        "            return 0\n",
        "    return 255"
      ],
      "execution_count": 0,
      "outputs": []
    },
    {
      "metadata": {
        "id": "LCr_6rlEt6KU",
        "colab_type": "code",
        "colab": {}
      },
      "cell_type": "code",
      "source": [
        "@njit # add code here\n",
        "def create_fractal(min_x, max_x, min_y, max_y, image, iters):\n",
        "    height = image.shape[0]\n",
        "    width = image.shape[1]\n",
        "\n",
        "    pixel_size_x = (max_x - min_x) / width\n",
        "    pixel_size_y = (max_y - min_y) / height\n",
        "    for x in range(width):\n",
        "        real = min_x + x * pixel_size_x\n",
        "        for y in range(height):\n",
        "            imag = min_y + y * pixel_size_y\n",
        "            color = julia(real, imag, iters)\n",
        "            image[y, x] = color\n",
        "\n",
        "    return image"
      ],
      "execution_count": 0,
      "outputs": []
    },
    {
      "metadata": {
        "id": "fZ-U8-tLuDjl",
        "colab_type": "code",
        "colab": {
          "base_uri": "https://localhost:8080/",
          "height": 34
        },
        "outputId": "4dc44e5e-6550-4d32-b3c7-856b7ef65818"
      },
      "cell_type": "code",
      "source": [
        "image = np.zeros((500, 750), dtype=np.uint8)\n",
        "%timeit create_fractal(-2.0, 2.0, -1.0, 1.0, image, 200)"
      ],
      "execution_count": 82,
      "outputs": [
        {
          "output_type": "stream",
          "text": [
            "40.1 ms ± 222 µs per loop (mean ± std. dev. of 7 runs, 1 loop each)\n"
          ],
          "name": "stdout"
        }
      ]
    },
    {
      "metadata": {
        "id": "FI8RpWQ4uYTL",
        "colab_type": "text"
      },
      "cell_type": "markdown",
      "source": [
        "Want to see what you made? Run the following code to plot the image. Feel free to pick your favorite matplotlib color map :)"
      ]
    },
    {
      "metadata": {
        "id": "5QY46v6Oua79",
        "colab_type": "code",
        "colab": {
          "base_uri": "https://localhost:8080/",
          "height": 258
        },
        "outputId": "310ddb26-18af-4ca6-dd4c-0d005b4101ac"
      },
      "cell_type": "code",
      "source": [
        "plt.imshow(image)\n",
        "plt.viridis()\n",
        "plt.show()"
      ],
      "execution_count": 83,
      "outputs": [
        {
          "output_type": "display_data",
          "data": {
            "text/plain": [
              "<Figure size 432x288 with 1 Axes>"
            ],
            "image/png": "[encoded data removed]"
          },
          "metadata": {
            "tags": [],
            "needs_background": "light"
          }
        }
      ]
    },
    {
      "metadata": {
        "id": "L6LBCgxiuu4Q",
        "colab_type": "code",
        "colab": {}
      },
      "cell_type": "code",
      "source": [
        ""
      ],
      "execution_count": 0,
      "outputs": []
    }
  ]
}