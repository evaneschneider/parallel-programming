{
  "nbformat": 4,
  "nbformat_minor": 0,
  "metadata": {
    "colab": {
      "name": "numba_intro.ipynb",
      "version": "0.3.2",
      "provenance": [],
      "include_colab_link": true
    },
    "kernelspec": {
      "name": "python3",
      "display_name": "Python 3"
    }
  },
  "cells": [
    {
      "cell_type": "markdown",
      "metadata": {
        "id": "view-in-github",
        "colab_type": "text"
      },
      "source": [
        "<a href=\"https://colab.research.google.com/github/evaneschneider/parallel-programming/blob/master/numba_intro.ipynb\" target=\"_parent\"><img src=\"https://colab.research.google.com/assets/colab-badge.svg\" alt=\"Open In Colab\"/></a>"
      ]
    },
    {
      "metadata": {
        "id": "cBAVRqT-D8JR",
        "colab_type": "code",
        "colab": {}
      },
      "cell_type": "code",
      "source": [
        "%matplotlib inline\n",
        "import matplotlib.pylab as plt\n",
        "import numpy as np\n",
        "import math\n",
        "from numba import jit, njit, vectorize"
      ],
      "execution_count": 0,
      "outputs": []
    },
    {
      "metadata": {
        "id": "72QKUcHITZXs",
        "colab_type": "text"
      },
      "cell_type": "markdown",
      "source": [
        "##What is Numba?\n",
        "Numba is a **just-in-time**, **type-specializing**, **function compiler** for accelerating **numerically-focused** Python. That's a long list, so let's break down those terms:\n",
        "\n",
        "+ **function compiler**: Numba compiles Python functions, not entire applications, and not parts of functions. Numba does not replace your Python interpreter, but is just another Python module that can turn a function into a (usually) faster function.\n",
        "+ **type-specializing**: Numba speeds up your function by generating a specialized implementation for the specific data types you are using. Python functions are designed to operate on generic data types, which makes them very flexible, but also very slow. In practice, you only will call a function with a small number of argument types, so Numba will generate a fast implementation for each set of types.\n",
        "+ **just-in-time**: Numba translates functions when they are first called. This ensures the compiler knows what argument types you will be using. This also allows Numba to be used interactively in a Jupyter notebook just as easily as a traditional application\n",
        "+ **numerically-focused**: Currently, Numba is focused on numerical data types, like int, float, and complex. There is very limited string processing support, and many string use cases are not going to work well on the GPU. To get best results with Numba, you will likely be using NumPy arrays."
      ]
    },
    {
      "metadata": {
        "id": "SgFcESP_EaNv",
        "colab_type": "text"
      },
      "cell_type": "markdown",
      "source": [
        "###Problem 1 - A First Numba Function\n",
        "\n",
        "**1a)** To start our exploration of Numba's features, let's write a python function to add two numbers. We'll creatively name it `add`:"
      ]
    },
    {
      "metadata": {
        "id": "yzKiUuSjEeDy",
        "colab_type": "code",
        "colab": {}
      },
      "cell_type": "code",
      "source": [
        "def add(x, y):\n",
        "  return x + y # add code here"
      ],
      "execution_count": 0,
      "outputs": []
    },
    {
      "metadata": {
        "id": "2Fnz9vr0FG7k",
        "colab_type": "text"
      },
      "cell_type": "markdown",
      "source": [
        "Now, let's test the function, first with two scalars:"
      ]
    },
    {
      "metadata": {
        "id": "o13KJoxJFDyD",
        "colab_type": "code",
        "colab": {
          "base_uri": "https://localhost:8080/",
          "height": 34
        },
        "outputId": "029fb063-813a-41de-a416-11b92dfc5238"
      },
      "cell_type": "code",
      "source": [
        "add(1, 2)"
      ],
      "execution_count": 129,
      "outputs": [
        {
          "output_type": "execute_result",
          "data": {
            "text/plain": [
              "3"
            ]
          },
          "metadata": {
            "tags": []
          },
          "execution_count": 129
        }
      ]
    },
    {
      "metadata": {
        "id": "7HdCKleiFd6r",
        "colab_type": "text"
      },
      "cell_type": "markdown",
      "source": [
        "**1b)** With numpy, we can use our function to add not just scalars, but vectors as well:"
      ]
    },
    {
      "metadata": {
        "id": "EWwdk1dYE5pN",
        "colab_type": "code",
        "colab": {
          "base_uri": "https://localhost:8080/",
          "height": 34
        },
        "outputId": "3c19dd39-44a8-4003-af58-2c9898d42283"
      },
      "cell_type": "code",
      "source": [
        "a = np.arange(0,10)\n",
        "b = np.arange(1,11)\n",
        "\n",
        "add(a, b) # add code here"
      ],
      "execution_count": 130,
      "outputs": [
        {
          "output_type": "execute_result",
          "data": {
            "text/plain": [
              "array([ 1,  3,  5,  7,  9, 11, 13, 15, 17, 19])"
            ]
          },
          "metadata": {
            "tags": []
          },
          "execution_count": 130
        }
      ]
    },
    {
      "metadata": {
        "id": "Jwqy1reHM0nA",
        "colab_type": "text"
      },
      "cell_type": "markdown",
      "source": [
        "Okay, so our function can add things. Let's use Numba's `jit` function to create a Numba version of our addition function:"
      ]
    },
    {
      "metadata": {
        "id": "SfnuyYZ1MjxR",
        "colab_type": "code",
        "colab": {
          "base_uri": "https://localhost:8080/",
          "height": 34
        },
        "outputId": "3cae78ef-b4e6-4f8e-c588-c376a211433a"
      },
      "cell_type": "code",
      "source": [
        "numba_add = jit(add)\n",
        "numba_add(a,b)"
      ],
      "execution_count": 134,
      "outputs": [
        {
          "output_type": "execute_result",
          "data": {
            "text/plain": [
              "array([ 1,  3,  5,  7,  9, 11, 13, 15, 17, 19])"
            ]
          },
          "metadata": {
            "tags": []
          },
          "execution_count": 134
        }
      ]
    },
    {
      "metadata": {
        "id": "FW3GvGwKkawy",
        "colab_type": "text"
      },
      "cell_type": "markdown",
      "source": [
        "More commonly, you will use `jit` as a decorator, by adding `@jit` to the line above your function definition, but the above version shows you that at heart, `@jit` is just a python function that takes other functions as its argument! By default, a Numba function saves the original python version of the function in the variable `py_func`. You can check that the original version gives you the same answer:"
      ]
    },
    {
      "metadata": {
        "id": "XS0-gUOWN12L",
        "colab_type": "code",
        "colab": {
          "base_uri": "https://localhost:8080/",
          "height": 34
        },
        "outputId": "208aeba4-cfa2-4834-e37a-984817b54dc3"
      },
      "cell_type": "code",
      "source": [
        "numba_add.py_func(a,b)"
      ],
      "execution_count": 135,
      "outputs": [
        {
          "output_type": "execute_result",
          "data": {
            "text/plain": [
              "array([ 1,  3,  5,  7,  9, 11, 13, 15, 17, 19])"
            ]
          },
          "metadata": {
            "tags": []
          },
          "execution_count": 135
        }
      ]
    },
    {
      "metadata": {
        "id": "QQx121wWGD_Y",
        "colab_type": "text"
      },
      "cell_type": "markdown",
      "source": [
        "#### Profiling\n",
        "A central feature of parallel programming, numba, and writing efficient code more generally is **profiling**, or understanding how long various pieces of your program take. Profiling tools are becoming ever more sophisticated, but for today we're going to stick with the tried-and-true method of timing things. An easy way to do this in python is using the `%timeit` magic function. Let's try it out on our addition function:"
      ]
    },
    {
      "metadata": {
        "id": "XC1o2Ki8Fx2U",
        "colab_type": "code",
        "colab": {
          "base_uri": "https://localhost:8080/",
          "height": 34
        },
        "outputId": "17974b0f-b444-4464-f3ba-66977d3ebaa7"
      },
      "cell_type": "code",
      "source": [
        "%timeit add(1,2)"
      ],
      "execution_count": 136,
      "outputs": [
        {
          "output_type": "stream",
          "text": [
            "90.1 ns ± 4.29 ns per loop (mean ± std. dev. of 7 runs, 10000000 loops each)\n"
          ],
          "name": "stdout"
        }
      ]
    },
    {
      "metadata": {
        "id": "krQ0FwkjGw-_",
        "colab_type": "text"
      },
      "cell_type": "markdown",
      "source": [
        "What's going on here? `%timeit` is running our function many times, and then reporting the average time it takes to run a million loops. This is generally a better approach than timing a single function execution, because it accounts for random events that may cause any given run to perform poorly."
      ]
    },
    {
      "metadata": {
        "id": "0xXjAFh-MXiv",
        "colab_type": "text"
      },
      "cell_type": "markdown",
      "source": [
        "**1c)** Compare the time it takes to run your function with scalar vs array arguments, then your function vs python's add function (the standard ''+'' operator)."
      ]
    },
    {
      "metadata": {
        "id": "3AgB0xKOHjcS",
        "colab_type": "code",
        "colab": {
          "base_uri": "https://localhost:8080/",
          "height": 51
        },
        "outputId": "f71db6d3-0d64-4d08-a269-5cd068e691f4"
      },
      "cell_type": "code",
      "source": [
        "%timeit add(a, b) # add code here\n",
        "%timeit a + b # add code here"
      ],
      "execution_count": 137,
      "outputs": [
        {
          "output_type": "stream",
          "text": [
            "504 ns ± 5.66 ns per loop (mean ± std. dev. of 7 runs, 1000000 loops each)\n",
            "436 ns ± 19.2 ns per loop (mean ± std. dev. of 7 runs, 1000000 loops each)\n"
          ],
          "name": "stdout"
        }
      ]
    },
    {
      "metadata": {
        "id": "YsZ_clWelcVJ",
        "colab_type": "text"
      },
      "cell_type": "markdown",
      "source": [
        "Now, let's see how fast our pre-compiled addition function goes."
      ]
    },
    {
      "metadata": {
        "id": "pqNzG9mhN-lp",
        "colab_type": "code",
        "colab": {
          "base_uri": "https://localhost:8080/",
          "height": 34
        },
        "outputId": "72579aab-744a-4ff2-c4fd-aa8bc50d6f5b"
      },
      "cell_type": "code",
      "source": [
        "%timeit numba_add(a,b) # add code here"
      ],
      "execution_count": 138,
      "outputs": [
        {
          "output_type": "stream",
          "text": [
            "851 ns ± 5.97 ns per loop (mean ± std. dev. of 7 runs, 1000000 loops each)\n"
          ],
          "name": "stdout"
        }
      ]
    },
    {
      "metadata": {
        "id": "pgDvbPLml3Dm",
        "colab_type": "text"
      },
      "cell_type": "markdown",
      "source": [
        "Hold on - our new pre-compiled function is running even slower than the original python version! What's going on here?"
      ]
    },
    {
      "metadata": {
        "id": "szNrfvJxl_Vj",
        "colab_type": "text"
      },
      "cell_type": "markdown",
      "source": [
        "### Problem 2 - A Better Numba Function\n",
        "\n",
        "(This problem borrowed in its entirety from [seibert's 2018 gtc numba tutorial](https://github.com/ContinuumIO/gtc2018-numba).)\n",
        "\n",
        "**2a)** As we saw in the first example, Numba isn't going to speed up everything. Generally, Numba will help you most in circumstances where python's line-by-line interperability and lack of type casting is slowing it down. We can use a slightly more complicated function to demonstrate this. The following is a function to calculate the hypotenuse of two numbers, that is designed to compensate for the computer's finite precision representation of numbers. Use the `@jit` decorator to generate a Numba version of this function."
      ]
    },
    {
      "metadata": {
        "id": "VNDuzJvGlkfg",
        "colab_type": "code",
        "colab": {}
      },
      "cell_type": "code",
      "source": [
        "@jit # add code here\n",
        "def hypotenuse(x, y):\n",
        "  # Implementation from https://en.wikipedia.org/wiki/Hypot\n",
        "  x = abs(x);\n",
        "  y = abs(y);\n",
        "  t = min(x, y);\n",
        "  x = max(x, y);\n",
        "  t = t / x;\n",
        "  return x * math.sqrt(1+t*t)"
      ],
      "execution_count": 0,
      "outputs": []
    },
    {
      "metadata": {
        "id": "52cFaUWboRZO",
        "colab_type": "text"
      },
      "cell_type": "markdown",
      "source": [
        "**2b)** Use the `%timeit` function to determine whether the Numba version of the hyptonenuse function is better than the original Python implementation."
      ]
    },
    {
      "metadata": {
        "id": "HS7QNmoUmcYG",
        "colab_type": "code",
        "colab": {
          "base_uri": "https://localhost:8080/",
          "height": 51
        },
        "outputId": "2b9471d7-e947-419e-8b8f-181520eef41f"
      },
      "cell_type": "code",
      "source": [
        "%timeit hypotenuse(3,4)\n",
        "%timeit hypotenuse.py_func(3,4)"
      ],
      "execution_count": 140,
      "outputs": [
        {
          "output_type": "stream",
          "text": [
            "153 ns ± 1.32 ns per loop (mean ± std. dev. of 7 runs, 10000000 loops each)\n",
            "690 ns ± 74.1 ns per loop (mean ± std. dev. of 7 runs, 1000000 loops each)\n"
          ],
          "name": "stdout"
        }
      ]
    },
    {
      "metadata": {
        "id": "0ZQmD-3Ho5oJ",
        "colab_type": "text"
      },
      "cell_type": "markdown",
      "source": [
        "**2c)** Numba functions can call other functions, provided they are also Numba functions. Below is a function that loops through two numpy arrays and puts their sum into an output array. Modify the following function to calculate the hypotenuse instead."
      ]
    },
    {
      "metadata": {
        "id": "0gO3Pxqbo4Nz",
        "colab_type": "code",
        "colab": {}
      },
      "cell_type": "code",
      "source": [
        "@njit # this is an alias for @jit(nopython=True)\n",
        "def ex_func(x, y, out):\n",
        "  for i in range(x.shape[0]):\n",
        "    out[i] = hypot(x[i], y[i]) # change this line"
      ],
      "execution_count": 0,
      "outputs": []
    },
    {
      "metadata": {
        "id": "m62ZUF84opUb",
        "colab_type": "code",
        "colab": {
          "base_uri": "https://localhost:8080/",
          "height": 85
        },
        "outputId": "c813673d-3728-4b02-d6bd-8fa443a53937"
      },
      "cell_type": "code",
      "source": [
        "in1 = np.arange(10, dtype=np.float64)\n",
        "in2 = 2 * in1 + 1\n",
        "out = np.empty_like(in1)\n",
        "\n",
        "print('in1:', in1)\n",
        "print('in2:', in2)\n",
        "\n",
        "ex_func(in1, in2, out)\n",
        "\n",
        "print('out:', out)"
      ],
      "execution_count": 147,
      "outputs": [
        {
          "output_type": "stream",
          "text": [
            "in1: [0. 1. 2. 3. 4. 5. 6. 7. 8. 9.]\n",
            "in2: [ 1.  3.  5.  7.  9. 11. 13. 15. 17. 19.]\n",
            "out: [ 1.          3.16227766  5.38516481  7.61577311  9.8488578  12.08304597\n",
            " 14.31782106 16.55294536 18.78829423 21.02379604]\n"
          ],
          "name": "stdout"
        }
      ]
    },
    {
      "metadata": {
        "id": "q1GhkW0LBuV_",
        "colab_type": "code",
        "colab": {}
      },
      "cell_type": "code",
      "source": [
        "# This test will fail until you fix the ex1 function\n",
        "np.testing.assert_almost_equal(out, np.hypot(in1, in2))"
      ],
      "execution_count": 0,
      "outputs": []
    },
    {
      "metadata": {
        "id": "zhO1-4Das9cm",
        "colab_type": "text"
      },
      "cell_type": "markdown",
      "source": [
        "###Problem 3 - Fun with Fractals\n",
        "Now that we've got the basics of the Numba `jit` decorator down, let's have a little fun. A classic example problem in parallel programming is the calculation of a fractal (you'll see why tomorrow). Below is some code that calculates whether a number is a member of the Julia set, and then computes the set on a discrete domain to calculate a fractal. Modify the code to use Numba and test how much faster it is than the original python implementation."
      ]
    },
    {
      "metadata": {
        "id": "XormIu6WqCOa",
        "colab_type": "code",
        "colab": {}
      },
      "cell_type": "code",
      "source": [
        "@njit # add code here\n",
        "def julia(x, y, max_iters):\n",
        "    \"\"\"\n",
        "    Given the real and imaginary parts of a complex number,\n",
        "    determine if it is a candidate for membership in the Julia\n",
        "    set given a fixed number of iterations.\n",
        "    \"\"\"\n",
        "    i = 0\n",
        "    c = complex(-0.8, 0.156)\n",
        "    a = complex(x,y)\n",
        "    for i in range(max_iters):\n",
        "        a = a*a + c\n",
        "        if (a.real*a.real + a.imag*a.imag) > 1000:\n",
        "            return 0\n",
        "    return 255"
      ],
      "execution_count": 0,
      "outputs": []
    },
    {
      "metadata": {
        "id": "LCr_6rlEt6KU",
        "colab_type": "code",
        "colab": {}
      },
      "cell_type": "code",
      "source": [
        "@njit # add code here\n",
        "def create_fractal(min_x, max_x, min_y, max_y, image, iters):\n",
        "    height = image.shape[0]\n",
        "    width = image.shape[1]\n",
        "\n",
        "    pixel_size_x = (max_x - min_x) / width\n",
        "    pixel_size_y = (max_y - min_y) / height\n",
        "    for x in range(width):\n",
        "        real = min_x + x * pixel_size_x\n",
        "        for y in range(height):\n",
        "            imag = min_y + y * pixel_size_y\n",
        "            color = julia(real, imag, iters)\n",
        "            image[y, x] = color\n",
        "\n",
        "    return image"
      ],
      "execution_count": 0,
      "outputs": []
    },
    {
      "metadata": {
        "id": "fZ-U8-tLuDjl",
        "colab_type": "code",
        "colab": {
          "base_uri": "https://localhost:8080/",
          "height": 34
        },
        "outputId": "4dc44e5e-6550-4d32-b3c7-856b7ef65818"
      },
      "cell_type": "code",
      "source": [
        "image = np.zeros((500, 750), dtype=np.uint8)\n",
        "%timeit create_fractal(-2.0, 2.0, -1.0, 1.0, image, 200)"
      ],
      "execution_count": 82,
      "outputs": [
        {
          "output_type": "stream",
          "text": [
            "40.1 ms ± 222 µs per loop (mean ± std. dev. of 7 runs, 1 loop each)\n"
          ],
          "name": "stdout"
        }
      ]
    },
    {
      "metadata": {
        "id": "FI8RpWQ4uYTL",
        "colab_type": "text"
      },
      "cell_type": "markdown",
      "source": [
        "Want to see what you made? Run the following code to plot the image. Feel free to pick your favorite matplotlib color map :)"
      ]
    },
    {
      "metadata": {
        "id": "5QY46v6Oua79",
        "colab_type": "code",
        "colab": {
          "base_uri": "https://localhost:8080/",
          "height": 258
        },
        "outputId": "310ddb26-18af-4ca6-dd4c-0d005b4101ac"
      },
      "cell_type": "code",
      "source": [
        "plt.imshow(image)\n",
        "plt.viridis()\n",
        "plt.show()"
      ],
      "execution_count": 83,
      "outputs": [
        {
          "output_type": "display_data",
          "data": {
            "text/plain": [
              "<Figure size 432x288 with 1 Axes>"
            ],
            "image/png": "[encoded data removed]"
          },
          "metadata": {
            "tags": [],
            "needs_background": "light"
          }
        }
      ]
    },
    {
      "metadata": {
        "id": "KvUWJRTJG7r7",
        "colab_type": "text"
      },
      "cell_type": "markdown",
      "source": [
        "There is more than one type of fractal in the world, however! Below is a function that determines membership in the Mandelbrot set. Modify the program above to produce a new pretty picture."
      ]
    },
    {
      "metadata": {
        "id": "6Ow0_mRBHIxC",
        "colab_type": "code",
        "colab": {}
      },
      "cell_type": "code",
      "source": [
        "@njit\n",
        "def mandel(x, y, max_iters):\n",
        "    \"\"\"\n",
        "    Given the real and imaginary parts of a complex number,\n",
        "    determine if it is a candidate for membership in the Mandelbrot\n",
        "    set given a fixed number of iterations.\n",
        "    \"\"\"\n",
        "    i = 0\n",
        "    c = complex(x,y)\n",
        "    z = 0.0j\n",
        "    for i in range(max_iters):\n",
        "        z = z*z + c\n",
        "        if (z.real*z.real + z.imag*z.imag) >= 4:\n",
        "            return i\n",
        "    return 255"
      ],
      "execution_count": 0,
      "outputs": []
    },
    {
      "metadata": {
        "id": "hHu6VBXYHXxv",
        "colab_type": "code",
        "colab": {}
      },
      "cell_type": "code",
      "source": [
        "# add code here\n",
        "@njit \n",
        "def create_fractal(min_x, max_x, min_y, max_y, image, iters):\n",
        "    height = image.shape[0]\n",
        "    width = image.shape[1]\n",
        "\n",
        "    pixel_size_x = (max_x - min_x) / width\n",
        "    pixel_size_y = (max_y - min_y) / height\n",
        "    for x in range(width):\n",
        "        real = min_x + x * pixel_size_x\n",
        "        for y in range(height):\n",
        "            imag = min_y + y * pixel_size_y\n",
        "            color = mandel(real, imag, iters)\n",
        "            image[y, x] = color\n",
        "\n",
        "    return image"
      ],
      "execution_count": 0,
      "outputs": []
    },
    {
      "metadata": {
        "id": "dlW4gww-HftJ",
        "colab_type": "code",
        "colab": {
          "base_uri": "https://localhost:8080/",
          "height": 258
        },
        "outputId": "6e023243-dc10-4edc-cea8-fa4ce77c111d"
      },
      "cell_type": "code",
      "source": [
        "image = np.zeros((500, 750), dtype=np.uint8)\n",
        "create_fractal(-2.0, 2.0, -1.0, 1.0, image, 200)\n",
        "plt.imshow(image)\n",
        "plt.viridis()\n",
        "plt.show()"
      ],
      "execution_count": 179,
      "outputs": [
        {
          "output_type": "display_data",
          "data": {
            "text/plain": [
              "<Figure size 432x288 with 1 Axes>"
            ],
            "image/png": "[encoded data removed]"
          },
          "metadata": {
            "tags": [],
            "needs_background": "light"
          }
        }
      ]
    },
    {
      "metadata": {
        "id": "GvUi6dVvVeY5",
        "colab_type": "text"
      },
      "cell_type": "markdown",
      "source": [
        "###Problem 4 - Typing\n",
        "\n",
        "Much of the power of Numba comes from its ability to compile a specific version of a python function based on the **data types** of its arguments. The data type describes what kind of variables the function uses, and in Numpy and Numba, pre-defined type names are based on the kind and size of the number in memory. You can find the type of a variable (or array) using numpy's `dtype` object. For example, let's see what type our `a` array is."
      ]
    },
    {
      "metadata": {
        "id": "L6LBCgxiuu4Q",
        "colab_type": "code",
        "colab": {
          "base_uri": "https://localhost:8080/",
          "height": 34
        },
        "outputId": "3aa4b379-e1bd-4adf-957a-bfaab9079fae"
      },
      "cell_type": "code",
      "source": [
        "a.dtype"
      ],
      "execution_count": 143,
      "outputs": [
        {
          "output_type": "execute_result",
          "data": {
            "text/plain": [
              "dtype('int64')"
            ]
          },
          "metadata": {
            "tags": []
          },
          "execution_count": 143
        }
      ]
    },
    {
      "metadata": {
        "id": "aF8y1QTW8ZK4",
        "colab_type": "text"
      },
      "cell_type": "markdown",
      "source": [
        "This tells us the array contains integers, and each integer has been assigned 64bits in memory (or equivalently, 8 bytes). Most python functions are defined to work on arbitrary types, so that if you use the + operator, for example, you can add integers, floats, complex numbers, or even strings! However, this flexibility comes at a cost, performance-wise. Numba, on the other hand, compiles each function based on the types of its arguments, and infers the type of the result. You can see this if you run the `inspect_types` function on a numba function:"
      ]
    },
    {
      "metadata": {
        "id": "NJoPUPFPZb3w",
        "colab_type": "code",
        "colab": {
          "base_uri": "https://localhost:8080/",
          "height": 411
        },
        "outputId": "fc85dfd2-cf77-4402-de50-f2e11c74e684"
      },
      "cell_type": "code",
      "source": [
        "numba_add.inspect_types()"
      ],
      "execution_count": 144,
      "outputs": [
        {
          "output_type": "stream",
          "text": [
            "add (array(int64, 1d, C), array(int64, 1d, C))\n",
            "--------------------------------------------------------------------------------\n",
            "# File: <ipython-input-128-9397aad11c87>\n",
            "# --- LINE 1 --- \n",
            "# label 0\n",
            "\n",
            "def add(x, y):\n",
            "\n",
            "  # --- LINE 2 --- \n",
            "  #   x = arg(0, name=x)  :: array(int64, 1d, C)\n",
            "  #   y = arg(1, name=y)  :: array(int64, 1d, C)\n",
            "  #   $0.3 = arrayexpr(expr=(<built-in function add>, [Var(x, <ipython-input-128-9397aad11c87> (2)), Var(y, <ipython-input-128-9397aad11c87> (2))]), ty=array(int64, 1d, C))  :: array(int64, 1d, C)\n",
            "  #   del y\n",
            "  #   del x\n",
            "  #   $0.4 = cast(value=$0.3)  :: array(int64, 1d, C)\n",
            "  #   del $0.3\n",
            "  #   return $0.4\n",
            "\n",
            "  return x + y # add code here\n",
            "\n",
            "\n",
            "================================================================================\n"
          ],
          "name": "stdout"
        }
      ]
    },
    {
      "metadata": {
        "id": "Fnuhv8VGCWFx",
        "colab_type": "text"
      },
      "cell_type": "markdown",
      "source": [
        "So far we have been using what Numba refers to as \"lazy\" (or \"call-time\") decoration. Alternatively, if we know how we are going to use a given function, we can use \"eager\" (or \"compile-time\") decoration. To do this, we make use of the `vectorize` decorator. For example, if we want to make an integer-only version of our addition function, we could write:"
      ]
    },
    {
      "metadata": {
        "id": "j5BI_s1NCVN_",
        "colab_type": "code",
        "colab": {}
      },
      "cell_type": "code",
      "source": [
        "@vectorize(['int64(int64, int64)'])\n",
        "def add_ufunc(x, y):\n",
        "  return x + y"
      ],
      "execution_count": 0,
      "outputs": []
    },
    {
      "metadata": {
        "id": "Dhm4Kf5HDpJY",
        "colab_type": "text"
      },
      "cell_type": "markdown",
      "source": [
        "#### Numpy Universal Functions\n",
        "You'll notice a couple of new things here. In the first set of "
      ]
    },
    {
      "metadata": {
        "id": "rxiVxBslV-0z",
        "colab_type": "code",
        "colab": {
          "base_uri": "https://localhost:8080/",
          "height": 34
        },
        "outputId": "d6898598-4e14-44d0-ef3d-76f6bccfbf9f"
      },
      "cell_type": "code",
      "source": [
        "%timeit add_ufunc(a,b)"
      ],
      "execution_count": 184,
      "outputs": [
        {
          "output_type": "stream",
          "text": [
            "422 ns ± 9.11 ns per loop (mean ± std. dev. of 7 runs, 1000000 loops each)\n"
          ],
          "name": "stdout"
        }
      ]
    },
    {
      "metadata": {
        "id": "oUbAJTzlFTqA",
        "colab_type": "text"
      },
      "cell_type": "markdown",
      "source": [
        "Try your ufunc out with a new target, 'parallel'. How does the speed compare? What if the array size is much larger?"
      ]
    },
    {
      "metadata": {
        "id": "X4A_kvi1GOkm",
        "colab_type": "code",
        "colab": {
          "base_uri": "https://localhost:8080/",
          "height": 34
        },
        "outputId": "45318105-2385-4cdb-b14e-2778933ce1d9"
      },
      "cell_type": "code",
      "source": [
        "big_array = np.arange(0,1000000)\n",
        "%timeit add_ufunc(big_array, big_array)"
      ],
      "execution_count": 185,
      "outputs": [
        {
          "output_type": "stream",
          "text": [
            "630 µs ± 5.12 µs per loop (mean ± std. dev. of 7 runs, 1000 loops each)\n"
          ],
          "name": "stdout"
        }
      ]
    },
    {
      "metadata": {
        "id": "jzAeBEu3X8V4",
        "colab_type": "code",
        "colab": {
          "base_uri": "https://localhost:8080/",
          "height": 34
        },
        "outputId": "c2d7926f-ccd0-4333-c4cc-9740c1186a16"
      },
      "cell_type": "code",
      "source": [
        "@vectorize(['int64(int64, int64)'], target='parallel')\n",
        "def add_ufunc(x, y):\n",
        "  return x + y\n",
        "%timeit add_ufunc(big_array,big_array)"
      ],
      "execution_count": 186,
      "outputs": [
        {
          "output_type": "stream",
          "text": [
            "627 µs ± 6.45 µs per loop (mean ± std. dev. of 7 runs, 1000 loops each)\n"
          ],
          "name": "stdout"
        }
      ]
    },
    {
      "metadata": {
        "id": "msaqZ5VtF4xV",
        "colab_type": "code",
        "colab": {
          "base_uri": "https://localhost:8080/",
          "height": 34
        },
        "outputId": "84982544-0f49-4eb0-d7c8-736795a9a5b6"
      },
      "cell_type": "code",
      "source": [
        "@vectorize(['int64(int64, int64)'])\n",
        "def max_ufunc(x, y):\n",
        "  return max(x, y)\n",
        "big_array2 = big_array+1\n",
        "max_ufunc(big_array, big_array2)"
      ],
      "execution_count": 182,
      "outputs": [
        {
          "output_type": "execute_result",
          "data": {
            "text/plain": [
              "array([      1,       2,       3, ...,  999998,  999999, 1000000])"
            ]
          },
          "metadata": {
            "tags": []
          },
          "execution_count": 182
        }
      ]
    },
    {
      "metadata": {
        "id": "KREEf5ZNMKBX",
        "colab_type": "text"
      },
      "cell_type": "markdown",
      "source": [
        "### Problem 5 - Direct Summation\n",
        "(This problem borrowed in its entirety from [gforsyth's scipy17 numba tutorial](https://github.com/gforsyth/numba_tutorial_scipy2017).)"
      ]
    },
    {
      "metadata": {
        "id": "xMPg_TRvRE8Q",
        "colab_type": "text"
      },
      "cell_type": "markdown",
      "source": [
        "Many physical problems require the evaluation of all pairwise interactions of a large number of particles, so-called N-body problems. These problems arise in molecular dynamics, astrodynamics and electromagnetics among others. \n",
        "\n",
        "Their pairwise interactions can be expressed as:\n",
        "\n",
        "\\begin{equation}\n",
        "f_i = \\sum_{j=1}^n{P \\left(\\boldsymbol{x}_i, \\boldsymbol{x}_j \\right)w_j} \\ \\ \\ \\text{for } i=1,2,...,n \n",
        "\\end{equation}\n",
        "\n",
        "*  where subscripts $i$,  $j$ respectively denote *target* and *source*\n",
        "*  $f_i$ can be a *potential* (or *force*) at target point $i$\n",
        "*  $w_j$ is the *source weight* \n",
        "*  $\\boldsymbol{x}_i, \\boldsymbol{x}_j$ are the *spatial positions* of particles \n",
        "*  $P \\left(\\boldsymbol{x}_i, \\boldsymbol{x}_j \\right)$ is the *interaction kernel*. \n",
        "\n",
        "In order to evalute the potential $f_i$ at a target point $i$, we have to loop over each source particle $j$. Since there are $n$ target points $i$, this 'brute-force' approach costs $\\mathcal{O} \\left(n^2 \\right)$ operations. "
      ]
    },
    {
      "metadata": {
        "id": "T8Fz6v8cRZe2",
        "colab_type": "text"
      },
      "cell_type": "markdown",
      "source": [
        "One possible approach in this kind of problem is to define a few classes, say `Point` and `Particle` and then loop over the objects and perform the necessary point-to-point calculations.  "
      ]
    },
    {
      "metadata": {
        "id": "Kgk_4HeaMNI4",
        "colab_type": "code",
        "colab": {}
      },
      "cell_type": "code",
      "source": [
        "class Point():\n",
        "    \"\"\"    \n",
        "    Arguments:\n",
        "        domain: the domain of random generated coordinates x,y,z, \n",
        "                default=1.0\n",
        "    \n",
        "    Attributes:\n",
        "        x, y, z: coordinates of the point\n",
        "    \"\"\"\n",
        "    def __init__(self, domain=1.0):\n",
        "        self.x = domain * np.random.random()\n",
        "        self.y = domain * np.random.random()\n",
        "        self.z = domain * np.random.random()\n",
        "            \n",
        "    def distance(self, other):\n",
        "        return ((self.x - other.x)**2 + \n",
        "                (self.y - other.y)**2 + \n",
        "                (self.z - other.z)**2)**.5"
      ],
      "execution_count": 0,
      "outputs": []
    },
    {
      "metadata": {
        "id": "XgKlyjf1Rcyl",
        "colab_type": "code",
        "colab": {}
      },
      "cell_type": "code",
      "source": [
        "class Particle(Point):\n",
        "    \"\"\"    \n",
        "    Attributes:\n",
        "        m: mass of the particle\n",
        "        phi: the potential of the particle\n",
        "    \"\"\"\n",
        "    \n",
        "    def __init__(self, domain=1.0, m=1.0):\n",
        "        Point.__init__(self, domain)\n",
        "        self.m = m\n",
        "        self.phi = 0."
      ],
      "execution_count": 0,
      "outputs": []
    },
    {
      "metadata": {
        "id": "54LlwJUARoQx",
        "colab_type": "text"
      },
      "cell_type": "markdown",
      "source": [
        "Next, we define a function to calculate the particle interaction via direct summation:"
      ]
    },
    {
      "metadata": {
        "id": "eaotXcZzRsI6",
        "colab_type": "code",
        "colab": {}
      },
      "cell_type": "code",
      "source": [
        "def direct_sum(particles):\n",
        "    \"\"\"\n",
        "    Calculate the potential at each particle\n",
        "    using direct summation method.\n",
        "\n",
        "    Arguments:\n",
        "        particles: the list of particles\n",
        "\n",
        "    \"\"\"\n",
        "    for i, target in enumerate(particles):\n",
        "        for source in (particles[:i] + particles[i+1:]):\n",
        "            r = target.distance(source)\n",
        "            target.phi += source.m / r"
      ],
      "execution_count": 0,
      "outputs": []
    },
    {
      "metadata": {
        "id": "jaUtRaKKS1ZL",
        "colab_type": "text"
      },
      "cell_type": "markdown",
      "source": [
        "All that's left is to create a list of random particles with assigned masses:"
      ]
    },
    {
      "metadata": {
        "id": "R8JmgOBtRlnV",
        "colab_type": "code",
        "colab": {}
      },
      "cell_type": "code",
      "source": [
        "n = 1000\n",
        "particles = [Particle(m = 1 / n) for i in range(n)]"
      ],
      "execution_count": 0,
      "outputs": []
    },
    {
      "metadata": {
        "id": "tZPmeLQ2SRF-",
        "colab_type": "text"
      },
      "cell_type": "markdown",
      "source": [
        "**5a)** Run the direct summation code and determine how long it takes with 10, 100, 1000 particles. Is there a relationship?"
      ]
    },
    {
      "metadata": {
        "id": "5BxIb_3YRuja",
        "colab_type": "code",
        "colab": {
          "base_uri": "https://localhost:8080/",
          "height": 34
        },
        "outputId": "b0a34722-e820-4e97-c1c3-30c0f0cb809b"
      },
      "cell_type": "code",
      "source": [
        "%timeit direct_sum(particles)"
      ],
      "execution_count": 207,
      "outputs": [
        {
          "output_type": "stream",
          "text": [
            "729 ms ± 11.9 ms per loop (mean ± std. dev. of 7 runs, 1 loop each)\n"
          ],
          "name": "stdout"
        }
      ]
    },
    {
      "metadata": {
        "id": "OeTfGagnTcEd",
        "colab_type": "text"
      },
      "cell_type": "markdown",
      "source": [
        "Because this is an $\\mathcal{O} \\left(n^2 \\right)$ function, each addtion of 10x particles costs 100x more in computational time. Given how expensive it is, let's see if we can improve things a bit with Numba. (This also happens to be a highly parallelizable problem, but we'll get to that tomorrow.)"
      ]
    },
    {
      "metadata": {
        "id": "BkC-j2c2UXbg",
        "colab_type": "text"
      },
      "cell_type": "markdown",
      "source": [
        "**How do we use Numba on this problem?** There is a subtle issue here - Numba doesn't support jitting native Python classes.  There is a `jit_class` structure in Numba but it's still in early development. But we'd like to have attributes for readable programming. The solution is to build NumPy custom dtypes."
      ]
    },
    {
      "metadata": {
        "id": "pwAbPrw3SG67",
        "colab_type": "code",
        "colab": {}
      },
      "cell_type": "code",
      "source": [
        "particle_dtype = np.dtype({'names':['x','y','z','m','phi'], \n",
        "                             'formats':[np.double, \n",
        "                                        np.double, \n",
        "                                        np.double, \n",
        "                                        np.double, \n",
        "                                        np.double]})"
      ],
      "execution_count": 0,
      "outputs": []
    },
    {
      "metadata": {
        "id": "0YQzXLouUsXC",
        "colab_type": "code",
        "colab": {}
      },
      "cell_type": "code",
      "source": [
        "myarray = np.ones(3, dtype=particle_dtype)"
      ],
      "execution_count": 0,
      "outputs": []
    },
    {
      "metadata": {
        "id": "gWtollTtU05Q",
        "colab_type": "code",
        "colab": {
          "base_uri": "https://localhost:8080/",
          "height": 51
        },
        "outputId": "79cc3e89-be16-4d85-97a4-78eeaf55a229"
      },
      "cell_type": "code",
      "source": [
        "myarray"
      ],
      "execution_count": 212,
      "outputs": [
        {
          "output_type": "execute_result",
          "data": {
            "text/plain": [
              "array([(1., 1., 1., 1., 1.), (1., 1., 1., 1., 1.), (1., 1., 1., 1., 1.)],\n",
              "      dtype=[('x', '<f8'), ('y', '<f8'), ('z', '<f8'), ('m', '<f8'), ('phi', '<f8')])"
            ]
          },
          "metadata": {
            "tags": []
          },
          "execution_count": 212
        }
      ]
    },
    {
      "metadata": {
        "id": "irR1wcMOVPzH",
        "colab_type": "text"
      },
      "cell_type": "markdown",
      "source": [
        "You can access an individual \"attribute\" like this:"
      ]
    },
    {
      "metadata": {
        "id": "w4oyOqCRU4Zi",
        "colab_type": "code",
        "colab": {}
      },
      "cell_type": "code",
      "source": [
        "myarray[0]['x'] = 2.0"
      ],
      "execution_count": 0,
      "outputs": []
    },
    {
      "metadata": {
        "id": "sL-2QZVKVYYd",
        "colab_type": "text"
      },
      "cell_type": "markdown",
      "source": [
        "**5b)** Write a `jit` function `create_n_random_particles` that takes the arguments `n` (number of particles), `m` (mass of every particle) and a domain within which to generate a random number (as in the class above).\n",
        "It should create an array with `n` elements and `dtype=particle_dtype` and then return that array.\n",
        "​\n",
        "For each particle, the mass should be initialized to the value of `m` and the potential `phi` initialized to zero."
      ]
    },
    {
      "metadata": {
        "id": "zuPJFbAFXGZV",
        "colab_type": "text"
      },
      "cell_type": "markdown",
      "source": [
        "*Hint: You will probably want to loop over the number of particles within the function to assign attributes.*"
      ]
    },
    {
      "metadata": {
        "id": "6_NGgEa_VbLf",
        "colab_type": "code",
        "colab": {}
      },
      "cell_type": "code",
      "source": [
        "@njit\n",
        "def create_n_random_particles(n, m, domain=1):\n",
        "    '''\n",
        "    Creates `n` particles with mass `m` with random coordinates\n",
        "    between 0 and `domain`\n",
        "    '''\n",
        "    parts = np.zeros((n), dtype=particle_dtype)\n",
        "    #attribute access only in @jitted function\n",
        "    for p in parts:\n",
        "        p.x = np.random.random() * domain\n",
        "        p.y = np.random.random() * domain\n",
        "        p.z = np.random.random() * domain\n",
        "        p.m = m\n",
        "        p.phi = 0\n",
        "    return parts"
      ],
      "execution_count": 0,
      "outputs": []
    },
    {
      "metadata": {
        "id": "Vp_EbHgJXl9y",
        "colab_type": "text"
      },
      "cell_type": "markdown",
      "source": [
        "Now we'll create our array of particles using the new function."
      ]
    },
    {
      "metadata": {
        "id": "0KKyJWWoXkgj",
        "colab_type": "code",
        "colab": {}
      },
      "cell_type": "code",
      "source": [
        "particles = create_n_random_particles(1000, .001, 1)"
      ],
      "execution_count": 0,
      "outputs": []
    },
    {
      "metadata": {
        "id": "vcaGjOQIXrjU",
        "colab_type": "code",
        "colab": {
          "base_uri": "https://localhost:8080/",
          "height": 85
        },
        "outputId": "930364ee-ca3a-4a13-a68e-d45fd4a01c08"
      },
      "cell_type": "code",
      "source": [
        "particles[:3]"
      ],
      "execution_count": 222,
      "outputs": [
        {
          "output_type": "execute_result",
          "data": {
            "text/plain": [
              "array([(0.88037842, 0.30333148, 0.67151002, 0.001, 0.),\n",
              "       (0.83113993, 0.52682804, 0.27811159, 0.001, 0.),\n",
              "       (0.68275997, 0.40409484, 0.21818067, 0.001, 0.)],\n",
              "      dtype=[('x', '<f8'), ('y', '<f8'), ('z', '<f8'), ('m', '<f8'), ('phi', '<f8')])"
            ]
          },
          "metadata": {
            "tags": []
          },
          "execution_count": 222
        }
      ]
    },
    {
      "metadata": {
        "id": "Vx32Tp4kWwQ-",
        "colab_type": "text"
      },
      "cell_type": "markdown",
      "source": [
        "We don't have a `distance` method anymore, so we need to write a function to take care of that.\n",
        "\n",
        "**5c)** Write a `jit` function `distance` to calculate the distance between two particles of dtype `particle_dtype`."
      ]
    },
    {
      "metadata": {
        "id": "1EkEnyJSVp9G",
        "colab_type": "code",
        "colab": {}
      },
      "cell_type": "code",
      "source": [
        "@njit\n",
        "def distance(part1, part2):\n",
        "    '''calculate the distance between two particles'''\n",
        "    return ((part1.x - part2.x)**2 + \n",
        "            (part1.y - part2.y)**2 + \n",
        "            (part1.z - part2.z)**2)**.5"
      ],
      "execution_count": 0,
      "outputs": []
    },
    {
      "metadata": {
        "id": "nX8TaDkLXcJK",
        "colab_type": "code",
        "colab": {
          "base_uri": "https://localhost:8080/",
          "height": 34
        },
        "outputId": "8aa77efc-b7ec-45bb-9dfd-f9003e8e46eb"
      },
      "cell_type": "code",
      "source": [
        "distance(particles[0], particles[1])"
      ],
      "execution_count": 224,
      "outputs": [
        {
          "output_type": "execute_result",
          "data": {
            "text/plain": [
              "0.45512356879470006"
            ]
          },
          "metadata": {
            "tags": []
          },
          "execution_count": 224
        }
      ]
    },
    {
      "metadata": {
        "id": "0y18OqcDX-bR",
        "colab_type": "code",
        "colab": {
          "base_uri": "https://localhost:8080/",
          "height": 34
        },
        "outputId": "890232f9-0044-47df-a54a-ef50d5bb6c9a"
      },
      "cell_type": "code",
      "source": [
        "%%timeit\n",
        "distance(particles[0], particles[1])"
      ],
      "execution_count": 225,
      "outputs": [
        {
          "output_type": "stream",
          "text": [
            "2.48 µs ± 33.7 ns per loop (mean ± std. dev. of 7 runs, 100000 loops each)\n"
          ],
          "name": "stdout"
        }
      ]
    },
    {
      "metadata": {
        "id": "JdZRXDJfYN5t",
        "colab_type": "text"
      },
      "cell_type": "markdown",
      "source": [
        "**5d)** Modify the `direct_sum` function above to instead work a NumPy array of particles.  Loop over each element in the array and calculate its total potential. Time the result and compare it to your previous version of this function."
      ]
    },
    {
      "metadata": {
        "id": "FhglZ1oVYEvL",
        "colab_type": "code",
        "colab": {}
      },
      "cell_type": "code",
      "source": [
        "@njit\n",
        "def direct_sum(particles):\n",
        "    for i, target in enumerate(particles):\n",
        "        for j, source in enumerate(particles):\n",
        "            if i != j:\n",
        "                r = distance(target, source)\n",
        "                target.phi += source.m / r\n",
        "                \n",
        "    return particles"
      ],
      "execution_count": 0,
      "outputs": []
    },
    {
      "metadata": {
        "id": "YpHC4RwxYa-X",
        "colab_type": "code",
        "colab": {
          "base_uri": "https://localhost:8080/",
          "height": 34
        },
        "outputId": "a7706d1a-0764-455a-ec0e-eeff8a4cd178"
      },
      "cell_type": "code",
      "source": [
        "%timeit direct_sum(particles)"
      ],
      "execution_count": 227,
      "outputs": [
        {
          "output_type": "stream",
          "text": [
            "3.48 ms ± 91.7 µs per loop (mean ± std. dev. of 7 runs, 100 loops each)\n"
          ],
          "name": "stdout"
        }
      ]
    },
    {
      "metadata": {
        "id": "C6mN43XLYhWX",
        "colab_type": "code",
        "colab": {}
      },
      "cell_type": "code",
      "source": [
        ""
      ],
      "execution_count": 0,
      "outputs": []
    }
  ]
}