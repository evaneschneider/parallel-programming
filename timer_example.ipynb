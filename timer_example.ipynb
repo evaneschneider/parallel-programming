{
  "nbformat": 4,
  "nbformat_minor": 0,
  "metadata": {
    "colab": {
      "name": "Untitled0.ipynb",
      "version": "0.3.2",
      "provenance": [],
      "include_colab_link": true
    },
    "kernelspec": {
      "name": "python3",
      "display_name": "Python 3"
    }
  },
  "cells": [
    {
      "cell_type": "markdown",
      "metadata": {
        "id": "view-in-github",
        "colab_type": "text"
      },
      "source": [
        "<a href=\"https://colab.research.google.com/github/evaneschneider/parallel-programming/blob/master/timer_example.ipynb\" target=\"_parent\"><img src=\"https://colab.research.google.com/assets/colab-badge.svg\" alt=\"Open In Colab\"/></a>"
      ]
    },
    {
      "metadata": {
        "id": "aaqFeFI5QOFZ",
        "colab_type": "code",
        "colab": {
          "base_uri": "https://localhost:8080/",
          "height": 34
        },
        "outputId": "1cfc06af-d10a-47af-8033-991d38772236"
      },
      "cell_type": "code",
      "source": [
        "from numba import njit\n",
        "import numpy as np\n",
        "import time\n",
        "\n",
        "x = np.arange(100).reshape(10, 10)\n",
        "\n",
        "@njit\n",
        "def go_fast(a): # Function is compiled and runs in machine code\n",
        "    trace = 0\n",
        "    for i in range(a.shape[0]):\n",
        "        trace += np.tanh(a[i, i])\n",
        "    return a + trace\n",
        "\n",
        "\n",
        "# DO NOT REPORT THIS... COMPILATION TIME IS INCLUDED IN THE EXECUTION TIME!\n",
        "start = time.time()\n",
        "go_fast(x)\n",
        "end = time.time()\n",
        "print(\"Elapsed (with compilation) = %s\" % (end - start))  "
      ],
      "execution_count": 3,
      "outputs": [
        {
          "output_type": "stream",
          "text": [
            "Elapsed (with compilation) = 0.3421616554260254\n"
          ],
          "name": "stdout"
        }
      ]
    },
    {
      "metadata": {
        "id": "oDCI7dEqQZJa",
        "colab_type": "code",
        "colab": {
          "base_uri": "https://localhost:8080/",
          "height": 34
        },
        "outputId": "6a0bdfa5-cf41-42d0-e9fb-260e0343e720"
      },
      "cell_type": "code",
      "source": [
        "# NOW THE FUNCTION IS COMPILED, RE-TIME IT EXECUTING FROM CACHE\n",
        "start = time.time()\n",
        "go_fast(x)\n",
        "end = time.time()\n",
        "print(\"Elapsed (after compilation) = %s\" % (end - start))"
      ],
      "execution_count": 5,
      "outputs": [
        {
          "output_type": "stream",
          "text": [
            "Elapsed (after compilation) = 9.393692016601562e-05\n"
          ],
          "name": "stdout"
        }
      ]
    },
    {
      "metadata": {
        "id": "5zc95Xm3RXWD",
        "colab_type": "code",
        "colab": {}
      },
      "cell_type": "code",
      "source": [
        ""
      ],
      "execution_count": 0,
      "outputs": []
    }
  ]
}