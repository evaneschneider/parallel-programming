{
  "nbformat": 4,
  "nbformat_minor": 0,
  "metadata": {
    "colab": {
      "name": "numba_examples.ipynb",
      "version": "0.3.2",
      "provenance": [],
      "collapsed_sections": [],
      "include_colab_link": true
    },
    "kernelspec": {
      "name": "python3",
      "display_name": "Python 3"
    },
    "accelerator": "GPU"
  },
  "cells": [
    {
      "cell_type": "markdown",
      "metadata": {
        "id": "view-in-github",
        "colab_type": "text"
      },
      "source": [
        "<a href=\"https://colab.research.google.com/github/evaneschneider/parallel-programming/blob/master/numba_examples.ipynb\" target=\"_parent\"><img src=\"https://colab.research.google.com/assets/colab-badge.svg\" alt=\"Open In Colab\"/></a>"
      ]
    },
    {
      "metadata": {
        "id": "TZnDVfZW2Ju1",
        "colab_type": "code",
        "colab": {}
      },
      "cell_type": "code",
      "source": [
        "%matplotlib inline\n",
        "import matplotlib.pylab as plt\n",
        "import numpy as np\n",
        "from timeit import default_timer as timer\n",
        "from numba import jit"
      ],
      "execution_count": 0,
      "outputs": []
    },
    {
      "metadata": {
        "id": "UfIRoGRi0oIN",
        "colab_type": "code",
        "outputId": "af5ef3b1-7c97-49f0-e1c1-f2bdce04f2cf",
        "colab": {
          "base_uri": "https://localhost:8080/",
          "height": 51
        }
      },
      "cell_type": "code",
      "source": [
        "x = np.arange(100).reshape(10, 10)\n",
        "\n",
        "@jit(nopython=True)\n",
        "def go_fast(a): # Function is compiled and runs in machine code\n",
        "    trace = 0\n",
        "    for i in range(a.shape[0]):\n",
        "        trace += np.tanh(a[i, i])\n",
        "    return a + trace\n",
        "\n",
        "# DO NOT REPORT THIS... COMPILATION TIME IS INCLUDED IN THE EXECUTION TIME!\n",
        "start = timer()\n",
        "go_fast(x)\n",
        "end = timer()\n",
        "print(\"Elapsed (with compilation) = %s\" % (end - start))\n",
        "\n",
        "# NOW THE FUNCTION IS COMPILED, RE-TIME IT EXECUTING FROM CACHE\n",
        "start = timer()\n",
        "go_fast(x)\n",
        "end = timer()\n",
        "print(\"Elapsed (after compilation) = %s\" % (end - start))"
      ],
      "execution_count": 0,
      "outputs": [
        {
          "output_type": "stream",
          "text": [
            "Elapsed (with compilation) = 0.5545870500000021\n",
            "Elapsed (after compilation) = 5.390100000113307e-05\n"
          ],
          "name": "stdout"
        }
      ]
    },
    {
      "metadata": {
        "id": "MEftAmVzVRTn",
        "colab_type": "code",
        "outputId": "e96c60d0-207d-4290-8a6c-22aba3caf646",
        "colab": {
          "base_uri": "https://localhost:8080/",
          "height": 51
        }
      },
      "cell_type": "code",
      "source": [
        "from numba import vectorize, int32, float64\n",
        "\n",
        "a_int = np.arange(10, dtype=np.int32)\n",
        "a_double = np.arange(10, dtype=np.float64)\n",
        "\n",
        "@vectorize([int32(int32, int32)])\n",
        "def f_int(x, y):\n",
        "    return x + y\n",
        "  \n",
        "@vectorize([float64(float64, float64)])\n",
        "def f_double(x, y):\n",
        "    return x + y\n",
        "\n",
        "%timeit f_int(a_int, a_int)\n",
        "%timeit f_double(a_double, a_double)"
      ],
      "execution_count": 0,
      "outputs": [
        {
          "output_type": "stream",
          "text": [
            "413 ns ± 6.25 ns per loop (mean ± std. dev. of 7 runs, 1000000 loops each)\n",
            "424 ns ± 3.32 ns per loop (mean ± std. dev. of 7 runs, 1000000 loops each)\n"
          ],
          "name": "stdout"
        }
      ]
    },
    {
      "metadata": {
        "id": "i4j6CB6HeBMY",
        "colab_type": "code",
        "colab": {}
      },
      "cell_type": "code",
      "source": [
        "from numba import cfunc\n",
        "\n",
        "def integrand(t):\n",
        "  return np.exp(-t) / t**2\n",
        "\n",
        "nb_integrand = cfunc(\"float64(float64)\")(integrand)"
      ],
      "execution_count": 0,
      "outputs": []
    },
    {
      "metadata": {
        "id": "coTFnsREeVDU",
        "colab_type": "code",
        "outputId": "f422fc3c-e012-4362-9c9e-031da1de9188",
        "colab": {
          "base_uri": "https://localhost:8080/",
          "height": 51
        }
      },
      "cell_type": "code",
      "source": [
        "import scipy.integrate as si\n",
        "\n",
        "def do_integrate(func):\n",
        "  \"\"\"\n",
        "  Integrate the given function from 1.0 to +inf.\n",
        "  \"\"\"\n",
        "  return si.quad(func, 1, np.inf)\n",
        "\n",
        "\n",
        "%timeit do_integrate(integrand)\n",
        "%timeit do_integrate(nb_integrand.ctypes)"
      ],
      "execution_count": 0,
      "outputs": [
        {
          "output_type": "stream",
          "text": [
            "138 µs ± 3.73 µs per loop (mean ± std. dev. of 7 runs, 10000 loops each)\n",
            "28.1 µs ± 702 ns per loop (mean ± std. dev. of 7 runs, 10000 loops each)\n"
          ],
          "name": "stdout"
        }
      ]
    },
    {
      "metadata": {
        "id": "mxjzxr7y6Z-m",
        "colab_type": "code",
        "outputId": "e71d63e6-4dbe-44b9-cbb0-6deedca9d608",
        "colab": {
          "base_uri": "https://localhost:8080/",
          "height": 303
        }
      },
      "cell_type": "code",
      "source": [
        "@jit(nopython=True)\n",
        "def mandel(x, y, max_iters):\n",
        "    \"\"\"\n",
        "    Given the real and imaginary parts of a complex number,\n",
        "    determine if it is a candidate for membership in the Mandelbrot\n",
        "    set given a fixed number of iterations.\n",
        "    \"\"\"\n",
        "    i = 0\n",
        "    c = complex(x,y)\n",
        "    z = 0.0j\n",
        "    for i in range(max_iters):\n",
        "        z = z*z + c\n",
        "        if (z.real*z.real + z.imag*z.imag) >= 4:\n",
        "            return i\n",
        "    return 255\n",
        "\n",
        "\n",
        "@jit(nopython=True)  \n",
        "def julia(x, y, max_iters):\n",
        "    \"\"\"\n",
        "    Given the real and imaginary parts of a complex number,\n",
        "    determine if it is a candidate for membership in the Julia\n",
        "    set given a fixed number of iterations.\n",
        "    \"\"\"\n",
        "    i = 0\n",
        "    c = complex(-0.8, 0.156)\n",
        "    a = complex(x,y)\n",
        "    for i in range(max_iters):\n",
        "        a = a*a + c\n",
        "        if (a.real*a.real + a.imag*a.imag) > 1000:\n",
        "            return 0\n",
        "    return 255\n",
        "  \n",
        "\n",
        "@jit(nopython=True)\n",
        "def create_fractal(min_x, max_x, min_y, max_y, image, iters):\n",
        "    height = image.shape[0]\n",
        "    width = image.shape[1]\n",
        "\n",
        "    pixel_size_x = (max_x - min_x) / width\n",
        "    pixel_size_y = (max_y - min_y) / height\n",
        "    for x in range(width):\n",
        "        real = min_x + x * pixel_size_x\n",
        "        for y in range(height):\n",
        "            imag = min_y + y * pixel_size_y\n",
        "            #color = mandel(real, imag, iters)\n",
        "            color = julia(real, imag, iters)\n",
        "            image[y, x] = color\n",
        "\n",
        "    return image\n",
        "\n",
        "image = np.zeros((500, 750), dtype=np.uint8)\n",
        "start = timer()\n",
        "create_fractal(-2.0, 2.0, -1.0, 1.0, image, 200)\n",
        "end = timer()\n",
        "print(\"Elapsed (with compilation) = %s\" % (end - start))\n",
        "start = timer()\n",
        "create_fractal(-2.0, 2.0, -1.0, 1.0, image, 200)\n",
        "end = timer()\n",
        "print(\"Elapsed (after compilation) = %s\" % (end - start))\n",
        "plt.imshow(image)\n",
        "plt.viridis()\n",
        "plt.show()"
      ],
      "execution_count": 0,
      "outputs": [
        {
          "output_type": "stream",
          "text": [
            "Elapsed (with compilation) = 0.2383380729999942\n",
            "Elapsed (after compilation) = 0.04302575799999886\n"
          ],
          "name": "stdout"
        },
        {
          "output_type": "display_data",
          "data": {
            "image/png": "[encoded data removed]",
            "text/plain": [
              "<Figure size 432x288 with 1 Axes>"
            ]
          },
          "metadata": {
            "tags": []
          }
        }
      ]
    },
    {
      "metadata": {
        "id": "FtUgga219nOi",
        "colab_type": "code",
        "outputId": "f2ea927a-db1f-4462-e89d-384e454120ff",
        "colab": {
          "base_uri": "https://localhost:8080/",
          "height": 80
        }
      },
      "cell_type": "code",
      "source": [
        "!find / -iname 'libdevice'\n",
        "!find / -iname 'libnvvm.so'"
      ],
      "execution_count": 0,
      "outputs": [
        {
          "output_type": "stream",
          "text": [
            "/usr/local/cuda-10.0/nvvm/libdevice\n",
            "/usr/local/cuda-10.0/nvvm/lib64/libnvvm.so\n"
          ],
          "name": "stdout"
        }
      ]
    },
    {
      "metadata": {
        "id": "WSPm1Q24ghFs",
        "colab_type": "code",
        "colab": {}
      },
      "cell_type": "code",
      "source": [
        ""
      ],
      "execution_count": 0,
      "outputs": []
    },
    {
      "metadata": {
        "id": "_fupor2b9xQD",
        "colab_type": "code",
        "colab": {}
      },
      "cell_type": "code",
      "source": [
        "import os\n",
        "os.environ['NUMBAPRO_LIBDEVICE'] = \"/usr/local/cuda-10.0/nvvm/libdevice\"\n",
        "os.environ['NUMBAPRO_NVVM'] = \"/usr/local/cuda-10.0/nvvm/lib64/libnvvm.so\""
      ],
      "execution_count": 0,
      "outputs": []
    },
    {
      "metadata": {
        "id": "6dEE98r_gJPg",
        "colab_type": "code",
        "outputId": "2c789641-35b9-4fe0-af0c-3b9c46030f23",
        "colab": {
          "base_uri": "https://localhost:8080/",
          "height": 102
        }
      },
      "cell_type": "code",
      "source": [
        "from numba import cuda\n",
        "\n",
        "@cuda.jit\n",
        "def hello(data):\n",
        "    data[cuda.blockIdx.x, cuda.threadIdx.x] = cuda.blockIdx.x\n",
        "\n",
        "numBlocks = 5\n",
        "threadsPerBlock = 10\n",
        "\n",
        "data = np.ones((numBlocks, threadsPerBlock), dtype=np.uint8)\n",
        "\n",
        "hello[numBlocks, threadsPerBlock](data)\n",
        "\n",
        "print(data)"
      ],
      "execution_count": 0,
      "outputs": [
        {
          "output_type": "stream",
          "text": [
            "[[0 0 0 0 0 0 0 0 0 0]\n",
            " [1 1 1 1 1 1 1 1 1 1]\n",
            " [2 2 2 2 2 2 2 2 2 2]\n",
            " [3 3 3 3 3 3 3 3 3 3]\n",
            " [4 4 4 4 4 4 4 4 4 4]]\n"
          ],
          "name": "stdout"
        }
      ]
    },
    {
      "metadata": {
        "id": "ACMUF50dZFKa",
        "colab_type": "code",
        "colab": {}
      },
      "cell_type": "code",
      "source": [
        "@cuda.jit\n",
        "def max_example(result, values):\n",
        "    \"\"\"Find the maximum value in values and store in result[0]\"\"\"\n",
        "    tid = cuda.threadIdx.x\n",
        "    bid = cuda.blockIdx.x\n",
        "    bdim = cuda.blockDim.x\n",
        "    i = (bid * bdim) + tid\n",
        "    cuda.atomic.max(result, 0, values[i])\n",
        "\n",
        "\n",
        "arr = np.random.rand(16384)\n",
        "result = np.zeros(1, dtype=np.float64)\n",
        "\n",
        "max_example[256,64](result, arr)\n",
        "print(result[0]) # Found using cuda.atomic.max\n",
        "print(max(arr))  # Print max(arr) for comparision (should be equal!)"
      ],
      "execution_count": 0,
      "outputs": []
    },
    {
      "metadata": {
        "id": "WdYvcSG_KvXn",
        "colab_type": "code",
        "colab": {}
      },
      "cell_type": "code",
      "source": [
        "@cuda.jit\n",
        "def compute_pi(rng_states, iterations, out):\n",
        "    \"\"\"Find the maximum value in values and store in result[0]\"\"\"\n",
        "    thread_id = cuda.grid(1)\n",
        "\n",
        "    # Compute pi by drawing random (x, y) points and finding what\n",
        "    # fraction lie inside a unit circle\n",
        "    inside = 0\n",
        "    for i in range(iterations):\n",
        "        x = xoroshiro128p_uniform_float32(rng_states, thread_id)\n",
        "        y = xoroshiro128p_uniform_float32(rng_states, thread_id)\n",
        "        if x**2 + y**2 <= 1.0:\n",
        "            inside += 1\n",
        "\n",
        "    out[thread_id] = 4.0 * inside / iterations\n",
        "\n",
        "threads_per_block = 64\n",
        "blocks = 24\n",
        "rng_states = create_xoroshiro128p_states(threads_per_block * blocks, seed=1)\n",
        "out = np.zeros(threads_per_block * blocks, dtype=np.float32)\n",
        "\n",
        "compute_pi[blocks, threads_per_block](rng_states, 10000, out)\n",
        "print('pi:', out.mean())"
      ],
      "execution_count": 0,
      "outputs": []
    },
    {
      "metadata": {
        "id": "_d8QGQioaKgF",
        "colab_type": "code",
        "colab": {}
      },
      "cell_type": "code",
      "source": [
        "@cuda.jit\n",
        "def matmul(A, B, C):\n",
        "    \"\"\"Perform square matrix multiplication of C = A * B\n",
        "    \"\"\"\n",
        "    i, j = cuda.grid(2)\n",
        "    if i < C.shape[0] and j < C.shape[1]:\n",
        "        tmp = 0.\n",
        "        for k in range(A.shape[1]):\n",
        "            tmp += A[i, k] * B[k, j]\n",
        "        C[i, j] = tmp"
      ],
      "execution_count": 0,
      "outputs": []
    },
    {
      "metadata": {
        "id": "hybeRDQ6aLdq",
        "colab_type": "code",
        "colab": {}
      },
      "cell_type": "code",
      "source": [
        "from numba import cuda, float32\n",
        "\n",
        "# Controls threads per block and shared memory usage.\n",
        "# The computation will be done on blocks of TPBxTPB elements.\n",
        "TPB = 16\n",
        "\n",
        "@cuda.jit\n",
        "def fast_matmul(A, B, C):\n",
        "    # Define an array in the shared memory\n",
        "    # The size and type of the arrays must be known at compile time\n",
        "    sA = cuda.shared.array(shape=(TPB, TPB), dtype=float32)\n",
        "    sB = cuda.shared.array(shape=(TPB, TPB), dtype=float32)\n",
        "\n",
        "    x, y = cuda.grid(2)\n",
        "\n",
        "    tx = cuda.threadIdx.x\n",
        "    ty = cuda.threadIdx.y\n",
        "    bpg = cuda.gridDim.x    # blocks per grid\n",
        "\n",
        "    if x >= C.shape[0] and y >= C.shape[1]:\n",
        "        # Quit if (x, y) is outside of valid C boundary\n",
        "        return\n",
        "\n",
        "    # Each thread computes one element in the result matrix.\n",
        "    # The dot product is chunked into dot products of TPB-long vectors.\n",
        "    tmp = 0.\n",
        "    for i in range(bpg):\n",
        "        # Preload data into shared memory\n",
        "        sA[tx, ty] = A[x, ty + i * TPB]\n",
        "        sB[tx, ty] = B[tx + i * TPB, y]\n",
        "\n",
        "        # Wait until all threads finish preloading\n",
        "        cuda.syncthreads()\n",
        "\n",
        "        # Computes partial product on the shared memory\n",
        "        for j in range(TPB):\n",
        "            tmp += sA[tx, j] * sB[j, ty]\n",
        "\n",
        "        # Wait until all threads finish computing\n",
        "        cuda.syncthreads()\n",
        "\n",
        "    C[x, y] = tmp"
      ],
      "execution_count": 0,
      "outputs": []
    },
    {
      "metadata": {
        "id": "znihQVvqP73L",
        "colab_type": "code",
        "colab": {}
      },
      "cell_type": "code",
      "source": [
        "import numpy\n",
        "from numba import cuda\n",
        "\n",
        "@cuda.reduce\n",
        "def sum_reduce(a, b):\n",
        "    return a + b\n",
        "\n",
        "A = (numpy.arange(1234, dtype=numpy.float64)) + 1\n",
        "expect = A.sum()      # numpy sum reduction\n",
        "got = sum_reduce(A)   # cuda sum reduction\n",
        "assert expect == got"
      ],
      "execution_count": 0,
      "outputs": []
    },
    {
      "metadata": {
        "id": "JwOCO-tjQTYN",
        "colab_type": "code",
        "colab": {}
      },
      "cell_type": "code",
      "source": [
        "from numba import vectorize, cuda\n",
        "\n",
        "# define a device function\n",
        "@cuda.jit('float32(float32, float32, float32)', device=True, inline=True)\n",
        "def cu_device_fn(x, y, z):\n",
        "    return x ** y / z\n",
        "\n",
        "# define a ufunc that calls our device function\n",
        "@vectorize(['float32(float32, float32, float32)'], target='cuda')\n",
        "def cu_ufunc(x, y, z):\n",
        "    return cu_device_fn(x, y, z)"
      ],
      "execution_count": 0,
      "outputs": []
    }
  ]
}