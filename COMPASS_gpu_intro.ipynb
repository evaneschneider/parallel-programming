{
  "nbformat": 4,
  "nbformat_minor": 0,
  "metadata": {
    "colab": {
      "name": "COMPASS_gpu_intro.ipynb",
      "version": "0.3.2",
      "provenance": [],
      "include_colab_link": true
    },
    "kernelspec": {
      "name": "python3",
      "display_name": "Python 3"
    },
    "accelerator": "GPU"
  },
  "cells": [
    {
      "cell_type": "markdown",
      "metadata": {
        "id": "view-in-github",
        "colab_type": "text"
      },
      "source": [
        "<a href=\"https://colab.research.google.com/github/evaneschneider/parallel-programming/blob/master/COMPASS_gpu_intro.ipynb\" target=\"_parent\"><img src=\"https://colab.research.google.com/assets/colab-badge.svg\" alt=\"Open In Colab\"/></a>"
      ]
    },
    {
      "metadata": {
        "id": "4ms9gdxWIgBj",
        "colab_type": "text"
      },
      "cell_type": "markdown",
      "source": [
        "## Introduction to GPU programming with Numba\n",
        "\n",
        "This notebook includes content from [seibert's 2018 gtc numba tutorial](https://github.com/ContinuumIO/gtc2018-numba). I highly recommend that tutorial in its entireity if you want more practice with Numba and GPUs."
      ]
    },
    {
      "metadata": {
        "id": "p84sfEiBIjac",
        "colab_type": "text"
      },
      "cell_type": "markdown",
      "source": [
        "##What is Numba?\n",
        "\n",
        "According to the [Numba documentation](https://numba.pydata.org/numba-doc/latest/user/index.html), \"Numba is a just-in-time compiler for Python that works best on code that uses NumPy arrays and functions, and loops. The most common way to use Numba is through its collection of decorators that can be applied to your functions to instruct Numba to compile them. When a call is made to a Numba decorated function it is compiled to machine code “just-in-time” for execution and all or part of your code can subsequently run at native machine code speed!\"\n",
        "\n",
        "For our purposes today, Numba is a python package that allows you to write python code for GPUs."
      ]
    },
    {
      "metadata": {
        "id": "X2Il4TZiHZFj",
        "colab_type": "code",
        "colab": {}
      },
      "cell_type": "code",
      "source": [
        "%matplotlib inline\n",
        "from matplotlib import pyplot as plt\n",
        "import numpy as np\n",
        "import math\n",
        "from numba import jit, njit, vectorize, cuda"
      ],
      "execution_count": 0,
      "outputs": []
    },
    {
      "metadata": {
        "id": "0mKkgZREKF9U",
        "colab_type": "text"
      },
      "cell_type": "markdown",
      "source": [
        "### Accessing the GPU\n",
        "\n",
        "1) In order to run Numba functions using google's free GPUs, we have to do a couple of things. First, go to the Runtime menu, click on 'Change Runtime Type', and in the pop-up box, under 'Hardware Accelerator', select 'GPU'. Save the Runtime.\n",
        "\n",
        "2) Ideally, that's all we should have to do. But in practice, even though the CUDA libararies are installed, as of this writing Colab can't find them automatically. So, we'll figure out where they are, and then point Colab to them."
      ]
    },
    {
      "metadata": {
        "id": "8oJXMF5XK2E3",
        "colab_type": "code",
        "outputId": "97ecb746-0a39-41e4-8d60-c67c59c3db8d",
        "colab": {
          "base_uri": "https://localhost:8080/",
          "height": 80
        }
      },
      "cell_type": "code",
      "source": [
        "!find / -iname 'libdevice'\n",
        "!find / -iname 'libnvvm.so'"
      ],
      "execution_count": 0,
      "outputs": [
        {
          "output_type": "stream",
          "text": [
            "/usr/local/cuda-10.0/nvvm/libdevice\n",
            "/usr/local/cuda-10.0/nvvm/lib64/libnvvm.so\n"
          ],
          "name": "stdout"
        }
      ]
    },
    {
      "metadata": {
        "id": "r8WN4kOPLEOP",
        "colab_type": "text"
      },
      "cell_type": "markdown",
      "source": [
        "Paste the location of the libraries into the following code box (if it's different, otherwise you can just run the code):"
      ]
    },
    {
      "metadata": {
        "id": "3m5mmDRQLF_q",
        "colab_type": "code",
        "colab": {}
      },
      "cell_type": "code",
      "source": [
        "import os\n",
        "os.environ['NUMBAPRO_LIBDEVICE'] = \"/usr/local/cuda-10.0/nvvm/libdevice\"\n",
        "os.environ['NUMBAPRO_NVVM'] = \"/usr/local/cuda-10.0/nvvm/lib64/libnvvm.so\""
      ],
      "execution_count": 0,
      "outputs": []
    },
    {
      "metadata": {
        "id": "eiVRA-VSLtMI",
        "colab_type": "text"
      },
      "cell_type": "markdown",
      "source": [
        "### Vector Addition on GPUs\n",
        "\n",
        "The simplest way to access the GPU via Numba is to use a vectorized ufunc. A Numpy ufunc, or [Universal Function,](https://docs.scipy.org/doc/numpy/reference/ufuncs.html) is a function that operates on vectors, or arrays. If we use Numba's `vectorize` decorator and specify the `cuda` target, Numba will automatically write a CUDA kernel for us and run the function on the GPU! Let's try it out:"
      ]
    },
    {
      "metadata": {
        "id": "dhfdRpKwIh4W",
        "colab_type": "code",
        "colab": {}
      },
      "cell_type": "code",
      "source": [
        "@vectorize(['int64(int64, int64)'], target='cuda')\n",
        "def add_ufunc_gpu(x, y):\n",
        "    return x + y"
      ],
      "execution_count": 0,
      "outputs": []
    },
    {
      "metadata": {
        "id": "3K0jty2RKoh5",
        "colab_type": "code",
        "colab": {}
      },
      "cell_type": "code",
      "source": [
        "x = np.arange(10)\n",
        "y = 2 * x"
      ],
      "execution_count": 0,
      "outputs": []
    },
    {
      "metadata": {
        "id": "_rWHI4gaKr0i",
        "colab_type": "code",
        "outputId": "fb876951-9a82-493d-b32f-f0f8c90cc135",
        "colab": {
          "base_uri": "https://localhost:8080/",
          "height": 34
        }
      },
      "cell_type": "code",
      "source": [
        "add_ufunc_gpu(x, y)"
      ],
      "execution_count": 0,
      "outputs": [
        {
          "output_type": "execute_result",
          "data": {
            "text/plain": [
              "array([ 0,  3,  6,  9, 12, 15, 18, 21, 24, 27])"
            ]
          },
          "metadata": {
            "tags": []
          },
          "execution_count": 6
        }
      ]
    },
    {
      "metadata": {
        "id": "9ThU4OQ_Mm5H",
        "colab_type": "text"
      },
      "cell_type": "markdown",
      "source": [
        "Cool, it worked! But what actually just happened? Well, a lot of things. Numba automatically:\n",
        "+ Compiled a CUDA kernel to execute the ufunc operation in parallel over all the input elements.\n",
        "+ Allocated GPU memory for the inputs and the output.\n",
        "+ Copied the input data to the GPU.\n",
        "+ Executed the CUDA kernel with the correct kernel dimensions given the input sizes.\n",
        "+ Copied the result back from the GPU to the CPU.\n",
        "+ Returned the result as a NumPy array on the host."
      ]
    },
    {
      "metadata": {
        "id": "TXT1kcoQMxlr",
        "colab_type": "text"
      },
      "cell_type": "markdown",
      "source": [
        "Using the `%timeit` magic function, we can determine how fast the CUDA function is:"
      ]
    },
    {
      "metadata": {
        "id": "HjoFJgNuKuQ6",
        "colab_type": "code",
        "outputId": "e92f6a63-cb67-46b8-fade-dac71f2ad06e",
        "colab": {
          "base_uri": "https://localhost:8080/",
          "height": 51
        }
      },
      "cell_type": "code",
      "source": [
        "%timeit add_ufunc_gpu(x, y)"
      ],
      "execution_count": 0,
      "outputs": [
        {
          "output_type": "stream",
          "text": [
            "The slowest run took 5.99 times longer than the fastest. This could mean that an intermediate result is being cached.\n",
            "1000 loops, best of 3: 755 µs per loop\n"
          ],
          "name": "stdout"
        }
      ]
    },
    {
      "metadata": {
        "id": "R5MoLyTtM-NX",
        "colab_type": "text"
      },
      "cell_type": "markdown",
      "source": [
        "And compare it to a version compiled for the CPU:"
      ]
    },
    {
      "metadata": {
        "id": "5JwXDYPRM8Y4",
        "colab_type": "code",
        "outputId": "c973a3c8-1f7a-4586-ea6c-a4abc9ea0f08",
        "colab": {
          "base_uri": "https://localhost:8080/",
          "height": 51
        }
      },
      "cell_type": "code",
      "source": [
        "@vectorize(['int64(int64, int64)'], target='cpu')\n",
        "def add_ufunc_cpu(x, y):\n",
        "    return x + y\n",
        "%timeit add_ufunc_cpu(x, y)"
      ],
      "execution_count": 0,
      "outputs": [
        {
          "output_type": "stream",
          "text": [
            "The slowest run took 32.65 times longer than the fastest. This could mean that an intermediate result is being cached.\n",
            "1000000 loops, best of 3: 617 ns per loop\n"
          ],
          "name": "stdout"
        }
      ]
    },
    {
      "metadata": {
        "id": "zV3q1FVAOrQc",
        "colab_type": "text"
      },
      "cell_type": "markdown",
      "source": [
        "Wow, the GPU is a LOT slower! That's because we have (deliberately) misused the GPU in several ways in this example:\n",
        "+ **Our inputs are too small**: the GPU achieves performance through parallelism, operating on thousands of values at once. Our test inputs have only 10 integers. We need a much larger array to even keep the GPU busy.\n",
        "+ **Our calculation is too simple**: Sending a calculation to the GPU involves quite a bit of overhead compared to calling a function on the CPU. If our calculation does not involve enough math operations (\"arithmetic intensity\"), then the GPU will spend most of its time waiting for data to move around.\n",
        "+ **We copy the data to and from the GPU**: While including the copy time can be realistic for a single function, often we want to run several GPU operations in sequence. In those cases, it makes sense to send data to the GPU and keep it there until all of our processing is complete.\n",
        "+ **Our data types are larger than necessary**: Our example uses int64 when we probably don't need it. Scalar code using data types that are 32 and 64-bit run basically the same speed on the CPU, but 64-bit data types have a significant performance cost on the GPU. Basic arithmetic on 64-bit floats can be anywhere from 2x (Pascal-architecture Tesla) to 24x (Maxwell-architecture GeForce) slower than 32-bit floats. NumPy defaults to 64-bit data types when creating arrays, so it is important to set the dtype attribute or use the ndarray.astype() method to pick 32-bit types when you need them.\n",
        "\n"
      ]
    },
    {
      "metadata": {
        "id": "U4BHrWNdQxUG",
        "colab_type": "text"
      },
      "cell_type": "markdown",
      "source": [
        "### Writing Cuda Kernels\n",
        "\n",
        "While targeting ufuncs with the `cuda` syntax is the most straightforward way to access the GPU with Numba, it may not be flexible enough for your needs. If you want to write a more detailed GPU program, at some point you are probably going to need to write CUDA kernels.\n",
        "\n",
        "As discussed in the lecture, the CUDA programming model allows you to abstract the GPU hardware into a software model composed of a **grid** containing **blocks** of **threads**. These threads are the smallest individual unit in the programming model, and they execute together in groups (traditionally called **warps**, consisting of 32 threads each). Determiming the best size for your grid of thread blocks is a complicated problem that often depends on the specific algorithm and hardware you're using, but here a few good rules of thumb:\n",
        "+ the size of a block should be a multiple of 32 threads, with typical block sizes between 128 and 512 threads per block.\n",
        "+ the size of the grid should ensure the full GPU is utilized where possible. Launching a grid where the number of blocks is 2x-4x the number of **streaming multiprocessors** on the GPU is a good starting place. (The Tesla K80 GPUs provided by Colaboratory have 15 SMs - more modern GPUs like the P100s on TigerGPU have 60+.)\n",
        "+ The CUDA kernel launch overhead does depend on the number of blocks, so it may not be best to launch a grid where the number of threads equals the number of input elements when the input size is very big. We'll show a pattern for dealing with large inputs below.\n",
        "\n",
        "As a first example, let's return to our vector addition function, but this time, we'll target it with the `cuda.jit` decorator:"
      ]
    },
    {
      "metadata": {
        "id": "pcQ2lOZcPkS7",
        "colab_type": "code",
        "colab": {}
      },
      "cell_type": "code",
      "source": [
        "@cuda.jit\n",
        "def add_kernel(x, y, out):\n",
        "    tidx = cuda.threadIdx.x # this is the unique thread ID within a 1D block\n",
        "    bidx = cuda.blockIdx.x  # Similarly, this is the unique block ID within the 1D grid\n",
        "\n",
        "    block_dimx = cuda.blockDim.x  # number of threads per block\n",
        "    grid_dimx = cuda.gridDim.x    # number of blocks in the grid\n",
        "    \n",
        "    start = tidx + bidx * block_dimx\n",
        "    stride = block_dimx * grid_dimx\n",
        "\n",
        "    # assuming x and y inputs are same length\n",
        "    for i in range(start, x.shape[0], stride):\n",
        "        out[i] = x[i] + y[i]"
      ],
      "execution_count": 0,
      "outputs": []
    },
    {
      "metadata": {
        "id": "a4hOAdahRst4",
        "colab_type": "text"
      },
      "cell_type": "markdown",
      "source": [
        "That's a lot more typing than our ufunc example, and it is much more limited: it only works on 1D arrays, it doesn't verify input sizes match, etc. Most of the function is spent figuring out how to turn the block and grid indices and dimensions into unique offsets in the input arrays. The pattern of computing a starting index and a stride is a common way to ensure that your grid size is independent of the input size. The striding will maximize bandwidth by ensuring that threads with consecuitive indices are accessing consecutive memory locations as much as possible. Thread indices beyond the length of the input (x.shape[0], since x is a NumPy array) automatically skip over the for loop.\n",
        "\n",
        "Let's call the function now on some data:"
      ]
    },
    {
      "metadata": {
        "id": "P2fID9GwRHTj",
        "colab_type": "code",
        "outputId": "da2ae600-5888-4994-a9b5-1545890c5379",
        "colab": {
          "base_uri": "https://localhost:8080/",
          "height": 34
        }
      },
      "cell_type": "code",
      "source": [
        "n = 100000\n",
        "x = np.arange(n).astype(np.float32)\n",
        "y = 2 * x\n",
        "out = np.empty_like(x)\n",
        "\n",
        "threads_per_block = 128\n",
        "blocks_per_grid = 30\n",
        "\n",
        "add_kernel[blocks_per_grid, threads_per_block](x, y, out)\n",
        "print(out[:10])"
      ],
      "execution_count": 0,
      "outputs": [
        {
          "output_type": "stream",
          "text": [
            "[ 0.  3.  6.  9. 12. 15. 18. 21. 24. 27.]\n"
          ],
          "name": "stdout"
        }
      ]
    },
    {
      "metadata": {
        "id": "OX-bp_bVR1ks",
        "colab_type": "text"
      },
      "cell_type": "markdown",
      "source": [
        "The calling syntax is designed to mimic the way CUDA kernels are launched in C, where the number of blocks per grid and threads per block are specified in the square brackets, and the arguments to the function are specified afterwards in parentheses.\n",
        "\n",
        "Note that, unlike the ufunc, the arguments are passed to the kernel as full NumPy arrays. A thread within the kernel can access any element in the array it wants, regardless of its position in the thread grid. This is why CUDA kernels are significantly more powerful than ufuncs. (But with great power, comes a greater amount of typing...)\n",
        "\n",
        "Numba has created some [helper functions](http://numba.pydata.org/numba-doc/dev/cuda/kernels.html#absolute-positions) to cut down on the typing. We can write the previous kernel much more simply as:"
      ]
    },
    {
      "metadata": {
        "id": "CjTLQArbRw6a",
        "colab_type": "code",
        "colab": {}
      },
      "cell_type": "code",
      "source": [
        "@cuda.jit\n",
        "def add_kernel(x, y, out):\n",
        "    start = cuda.grid(1)      # the 1 argument means a one dimensional thread grid, this returns a single value\n",
        "    stride = cuda.gridsize(1) # ditto\n",
        "\n",
        "    # assuming x and y inputs are same length\n",
        "    for i in range(start, x.shape[0], stride):\n",
        "        out[i] = x[i] + y[i]"
      ],
      "execution_count": 0,
      "outputs": []
    },
    {
      "metadata": {
        "id": "wGVRKurCR_-T",
        "colab_type": "text"
      },
      "cell_type": "markdown",
      "source": [
        "As before, using NumPy arrays forces Numba to allocate GPU memory, copy the arguments to the GPU, run the kernel, then copy the argument arrays back to the host. This not very efficient, so you will often want to pre-allocate device arrays."
      ]
    },
    {
      "metadata": {
        "id": "jS6HTzeMSHZU",
        "colab_type": "text"
      },
      "cell_type": "markdown",
      "source": [
        "### Memory Management\n",
        "\n",
        "Numba can automatically handle transferring data to and from the GPU for us. However, that's not always what we want. Sometimes we will want to perform several functions in a row on the GPU without transferring the data back to the CPU in between. To address this, Numba provides the `to_device` function in the `cuda` module to allocate and copy arrays to the GPU:"
      ]
    },
    {
      "metadata": {
        "id": "l5zj87YCR7wo",
        "colab_type": "code",
        "outputId": "842d3301-d4c4-41ef-e6a2-dafdb36be92d",
        "colab": {
          "base_uri": "https://localhost:8080/",
          "height": 68
        }
      },
      "cell_type": "code",
      "source": [
        "x_device = cuda.to_device(x)\n",
        "y_device = cuda.to_device(y)\n",
        "\n",
        "print(x_device)\n",
        "print(x_device.shape)\n",
        "print(x_device.dtype)"
      ],
      "execution_count": 0,
      "outputs": [
        {
          "output_type": "stream",
          "text": [
            "<numba.cuda.cudadrv.devicearray.DeviceNDArray object at 0x7f42f7125048>\n",
            "(100000,)\n",
            "float32\n"
          ],
          "name": "stdout"
        }
      ]
    },
    {
      "metadata": {
        "id": "_wNw1KPgSnHa",
        "colab_type": "text"
      },
      "cell_type": "markdown",
      "source": [
        "`x_device` and `y_device` are now Numba \"device arrays\" that are in many ways equivalent to Numpy ndarrays except that they live in the GPU's global memory, rather than on the CPU. These device arrays can be passed to Numba cuda functions just the way Numpy arrays can, but without the memory copying overhead."
      ]
    },
    {
      "metadata": {
        "id": "YYsTJ6I_SshQ",
        "colab_type": "text"
      },
      "cell_type": "markdown",
      "source": [
        "We can also create an output buffer on the GPU with the numba.cuda.device_array() function:"
      ]
    },
    {
      "metadata": {
        "id": "wn9cV7vjSXzT",
        "colab_type": "code",
        "colab": {}
      },
      "cell_type": "code",
      "source": [
        "out_device = cuda.device_array(shape=(n,), dtype=np.float32)  # does not initialize the contents, much like np.empty()"
      ],
      "execution_count": 0,
      "outputs": []
    },
    {
      "metadata": {
        "id": "IUNR3GrdTHrl",
        "colab_type": "text"
      },
      "cell_type": "markdown",
      "source": [
        "Now we can try out our Cuda kernel using the pre-copied device arrays, and compare the time to a version without moving the data first."
      ]
    },
    {
      "metadata": {
        "id": "KhmFwAjnSzFn",
        "colab_type": "code",
        "outputId": "5485ed8a-0cd2-4a76-82cf-bd368a3a60b9",
        "colab": {
          "base_uri": "https://localhost:8080/",
          "height": 51
        }
      },
      "cell_type": "code",
      "source": [
        "%timeit add_kernel[blocks_per_grid, threads_per_block](x_device, y_device, out_device)"
      ],
      "execution_count": 0,
      "outputs": [
        {
          "output_type": "stream",
          "text": [
            "The slowest run took 884.36 times longer than the fastest. This could mean that an intermediate result is being cached.\n",
            "1000 loops, best of 3: 184 µs per loop\n"
          ],
          "name": "stdout"
        }
      ]
    },
    {
      "metadata": {
        "id": "B8FAUC9qUJ7E",
        "colab_type": "code",
        "outputId": "9e46d169-2170-4882-91a9-4aa194158850",
        "colab": {
          "base_uri": "https://localhost:8080/",
          "height": 51
        }
      },
      "cell_type": "code",
      "source": [
        "%timeit add_kernel[blocks_per_grid, threads_per_block](x, y, out)"
      ],
      "execution_count": 0,
      "outputs": [
        {
          "output_type": "stream",
          "text": [
            "The slowest run took 121.67 times longer than the fastest. This could mean that an intermediate result is being cached.\n",
            "1000 loops, best of 3: 1.32 ms per loop\n"
          ],
          "name": "stdout"
        }
      ]
    },
    {
      "metadata": {
        "id": "JdgQcv2QTxmO",
        "colab_type": "text"
      },
      "cell_type": "markdown",
      "source": [
        "As you can see, moving data back and forth is *expensive*. In general, you will want to keep your data on the GPU as long as possible and do as many calculations as you can before moving it back. Of course, at some point you will have to move the data back to the CPU, whether to output to a file, perform some other CPU functions, etc.. Numba provides the `copy_to_host` function for that:"
      ]
    },
    {
      "metadata": {
        "id": "iamX7eLNT6XN",
        "colab_type": "code",
        "colab": {}
      },
      "cell_type": "code",
      "source": [
        "out = out_device.copy_to_host()"
      ],
      "execution_count": 0,
      "outputs": []
    },
    {
      "metadata": {
        "id": "vsDC1ChBVbnq",
        "colab_type": "text"
      },
      "cell_type": "markdown",
      "source": [
        "After all of this extra work, you may be wondering what the point of doing calculations on the GPU is. After all, if we compare the time it takes to run our fancy Cuda kernel with the pre-allocated GPU arrays, to the CPU version provided by python, we find that the GPU version is still faster:"
      ]
    },
    {
      "metadata": {
        "id": "GGGKUDlqUi9M",
        "colab_type": "code",
        "outputId": "7e195c32-8898-4b7d-ab76-873a8b5bf3ed",
        "colab": {
          "base_uri": "https://localhost:8080/",
          "height": 51
        }
      },
      "cell_type": "code",
      "source": [
        "%timeit x + y"
      ],
      "execution_count": 0,
      "outputs": [
        {
          "output_type": "stream",
          "text": [
            "The slowest run took 7.13 times longer than the fastest. This could mean that an intermediate result is being cached.\n",
            "10000 loops, best of 3: 78 µs per loop\n"
          ],
          "name": "stdout"
        }
      ]
    },
    {
      "metadata": {
        "id": "-N1CTqpPV5U-",
        "colab_type": "text"
      },
      "cell_type": "markdown",
      "source": [
        "But that's because we *still* haven't given the GPU enough work to do. If we go back and try the same problem, but with arrays that are 10 times larger..."
      ]
    },
    {
      "metadata": {
        "id": "8oIcVyvGU9iO",
        "colab_type": "code",
        "colab": {}
      },
      "cell_type": "code",
      "source": [
        "n = 1000000\n",
        "x = np.arange(n).astype(np.float32)\n",
        "y = 2 * x"
      ],
      "execution_count": 0,
      "outputs": []
    },
    {
      "metadata": {
        "id": "vXK9W6bWWGaT",
        "colab_type": "code",
        "colab": {}
      },
      "cell_type": "code",
      "source": [
        "x_device = cuda.to_device(x)\n",
        "y_device = cuda.to_device(y)\n",
        "out_device = cuda.device_array(shape=(n,), dtype=np.float32)"
      ],
      "execution_count": 0,
      "outputs": []
    },
    {
      "metadata": {
        "id": "n1w1DtsLWNH8",
        "colab_type": "code",
        "outputId": "fa84008f-1f29-4c36-f2fd-e992d1f9cfc7",
        "colab": {
          "base_uri": "https://localhost:8080/",
          "height": 51
        }
      },
      "cell_type": "code",
      "source": [
        "%timeit add_kernel[blocks_per_grid, threads_per_block](x_device, y_device, out_device)"
      ],
      "execution_count": 0,
      "outputs": [
        {
          "output_type": "stream",
          "text": [
            "The slowest run took 7.72 times longer than the fastest. This could mean that an intermediate result is being cached.\n",
            "10000 loops, best of 3: 177 µs per loop\n"
          ],
          "name": "stdout"
        }
      ]
    },
    {
      "metadata": {
        "id": "_uw0pSGdWQzA",
        "colab_type": "code",
        "outputId": "e256edf2-ec66-4df0-8f13-f30e39e3628c",
        "colab": {
          "base_uri": "https://localhost:8080/",
          "height": 51
        }
      },
      "cell_type": "code",
      "source": [
        "%timeit x + y"
      ],
      "execution_count": 0,
      "outputs": [
        {
          "output_type": "stream",
          "text": [
            "The slowest run took 9.35 times longer than the fastest. This could mean that an intermediate result is being cached.\n",
            "1000 loops, best of 3: 709 µs per loop\n"
          ],
          "name": "stdout"
        }
      ]
    },
    {
      "metadata": {
        "id": "9RPJyHAKW5lw",
        "colab_type": "text"
      },
      "cell_type": "markdown",
      "source": [
        "...we start to see the power of the GPU. As you may have noticed, the GPU function called with a million array elements took approximately the same amount of time to run as the version with 100 thousand elements. That's because most of the GPU was not busy when we only had 100 thousand elements, so we still hadn't overcome the overhead of launching the kernel."
      ]
    },
    {
      "metadata": {
        "id": "ZEe4mFj2Zo03",
        "colab_type": "text"
      },
      "cell_type": "markdown",
      "source": [
        "### Fun with Fractals\n",
        "\n",
        "This is a short tutorial, but to give you an idea of an area where GPUs shine, let's play around with some slightly more complicated functions designed to create fractals. Below are two functions that create an instance of the Julia set:"
      ]
    },
    {
      "metadata": {
        "id": "1isz9dnMWgW5",
        "colab_type": "code",
        "colab": {}
      },
      "cell_type": "code",
      "source": [
        "def julia(x, y, max_iters):\n",
        "  \"\"\"\n",
        "  Given the real and imaginary parts of a complex number,\n",
        "  determine if it is a candidate for membership in the Julia\n",
        "  set given a fixed number of iterations.\n",
        "  \"\"\"\n",
        "  i = 0\n",
        "  c = complex(-0.8, 0.156)\n",
        "  a = complex(x,y)\n",
        "  for i in range(max_iters):\n",
        "    a = a*a + c\n",
        "    if (a.real*a.real + a.imag*a.imag) > 1000:\n",
        "      return int((i/max_iters)*255)\n",
        "  return 255"
      ],
      "execution_count": 0,
      "outputs": []
    },
    {
      "metadata": {
        "id": "eGAZshA0Z_SY",
        "colab_type": "code",
        "colab": {}
      },
      "cell_type": "code",
      "source": [
        "def create_fractal(min_x, max_x, min_y, max_y, image, iters):\n",
        "  height = image.shape[0]\n",
        "  width = image.shape[1]\n",
        "\n",
        "  pixel_size_x = (max_x - min_x) / width\n",
        "  pixel_size_y = (max_y - min_y) / height\n",
        "  for x in range(width):\n",
        "    real = min_x + x * pixel_size_x\n",
        "    for y in range(height):\n",
        "      imag = min_y + y * pixel_size_y\n",
        "      color = julia(real, imag, iters)\n",
        "      image[y, x] = color\n",
        "\n",
        "  return image"
      ],
      "execution_count": 0,
      "outputs": []
    },
    {
      "metadata": {
        "id": "zTyoePO7aBzU",
        "colab_type": "code",
        "outputId": "56ba20df-7204-497c-ba03-746e047442c5",
        "colab": {
          "base_uri": "https://localhost:8080/",
          "height": 286
        }
      },
      "cell_type": "code",
      "source": [
        "image = np.zeros((500, 750), dtype=np.uint8)\n",
        "%timeit create_fractal(-2.0, 2.0, -1.0, 1.0, image, 200)\n",
        "plt.imshow(image)\n",
        "plt.viridis()\n",
        "plt.show()"
      ],
      "execution_count": 0,
      "outputs": [
        {
          "output_type": "stream",
          "text": [
            "1 loop, best of 3: 2.91 s per loop\n"
          ],
          "name": "stdout"
        },
        {
          "output_type": "display_data",
          "data": {
            "image/png": "[encoded data removed]",
            "text/plain": [
              "<Figure size 432x288 with 1 Axes>"
            ]
          },
          "metadata": {
            "tags": []
          }
        }
      ]
    },
    {
      "metadata": {
        "id": "pRBnncSjbjf3",
        "colab_type": "text"
      },
      "cell_type": "markdown",
      "source": [
        "In order to turn this into a GPU implementation, we need to have a kernel function (create_fractal) call another function (julia) on the device. Numba has a way of specifying functions that will be called from within a kernel by passing the cuda.jit decorator the `device` argument:"
      ]
    },
    {
      "metadata": {
        "id": "FJyjvq8vbeD9",
        "colab_type": "code",
        "colab": {}
      },
      "cell_type": "code",
      "source": [
        "@cuda.jit(device=True)\n",
        "def julia(x, y, max_iters):\n",
        "  \"\"\"\n",
        "  Given the real and imaginary parts of a complex number,\n",
        "  determine if it is a candidate for membership in the Julia\n",
        "  set given a fixed number of iterations.\n",
        "  \"\"\"\n",
        "  i = 0\n",
        "  c = complex(-0.8, 0.156)\n",
        "  a = complex(x,y)\n",
        "  for i in range(max_iters):\n",
        "    a = a*a + c\n",
        "    if (a.real*a.real + a.imag*a.imag) > 1000:\n",
        "      return int((i/max_iters)*255)\n",
        "  return 255"
      ],
      "execution_count": 0,
      "outputs": []
    },
    {
      "metadata": {
        "id": "346P5H9cbyUi",
        "colab_type": "text"
      },
      "cell_type": "markdown",
      "source": [
        "#### Multi-dimensional grids\n",
        "\n",
        "For some problems, it makes sense to define a two- or three-dimensional grid of thread blocks. That way, when you're indexing a single thread, you can map it to, say, the pixel position in an image. Multi-dimensional grids are created by passing tuples to the kernel function. You can ensure that you launch a big enough grid by calculating the size of each dimension as a function of the array size and number of threads per block:"
      ]
    },
    {
      "metadata": {
        "id": "UzQtAeVfbsle",
        "colab_type": "code",
        "colab": {}
      },
      "cell_type": "code",
      "source": [
        "threadsperblock = 16\n",
        "xblocks = (image.shape[1] + (threadsperblock - 1)) // threadsperblock\n",
        "yblocks = (image.shape[0] + (threadsperblock - 1)) // threadsperblock"
      ],
      "execution_count": 0,
      "outputs": []
    },
    {
      "metadata": {
        "id": "D0Zr98eHcCol",
        "colab_type": "text"
      },
      "cell_type": "markdown",
      "source": [
        "Then, within a kernel, you can determine the absolute thread position by calling the `grid` helper function, as in `x, y = cuda.grid(2)`."
      ]
    },
    {
      "metadata": {
        "id": "Iz5GvibKcHJ4",
        "colab_type": "text"
      },
      "cell_type": "markdown",
      "source": [
        "Below is a modified version of the create_fractal function that launches as a kernel on the GPU and calls the device function, julia. We use a 2D grid of thread blocks to launch the kernel and determine which threads are responsible for each pixel in the image."
      ]
    },
    {
      "metadata": {
        "id": "KC4-KVZQb4-p",
        "colab_type": "code",
        "colab": {}
      },
      "cell_type": "code",
      "source": [
        "@cuda.jit\n",
        "def create_fractal(min_x, max_x, min_y, max_y, image, iters):\n",
        "  height = image.shape[0]\n",
        "  width = image.shape[1]\n",
        "\n",
        "  pixel_size_x = (max_x - min_x) / width\n",
        "  pixel_size_y = (max_y - min_y) / height\n",
        "    \n",
        "  x, y = cuda.grid(2)\n",
        "    \n",
        "  if x < width and y < height:\n",
        "    real = min_x + x * pixel_size_x\n",
        "    imag = min_y + y * pixel_size_y\n",
        "    color = julia(real, imag, iters)\n",
        "    image[y, x] = color"
      ],
      "execution_count": 0,
      "outputs": []
    },
    {
      "metadata": {
        "id": "1ub1r0mfc3aw",
        "colab_type": "code",
        "colab": {}
      },
      "cell_type": "code",
      "source": [
        "image = np.zeros((500, 750), dtype=np.uint8)\n",
        "threadsperblock = 16\n",
        "threads_per_block = (16, 16)\n",
        "xblocks = (image.shape[1] + (threadsperblock - 1)) // threadsperblock\n",
        "yblocks = (image.shape[0] + (threadsperblock - 1)) // threadsperblock\n",
        "blocks_per_grid = (xblocks, yblocks)"
      ],
      "execution_count": 0,
      "outputs": []
    },
    {
      "metadata": {
        "id": "QXAW2lN6c-uh",
        "colab_type": "code",
        "outputId": "458b0c2a-5d45-443a-d588-78bfead48651",
        "colab": {
          "base_uri": "https://localhost:8080/",
          "height": 303
        }
      },
      "cell_type": "code",
      "source": [
        "%timeit create_fractal[blocks_per_grid, threads_per_block](-2.0, 2.0, -1.0, 1.0, image, 200)\n",
        "plt.imshow(image)\n",
        "plt.viridis()\n",
        "plt.show()"
      ],
      "execution_count": 0,
      "outputs": [
        {
          "output_type": "stream",
          "text": [
            "The slowest run took 75.37 times longer than the fastest. This could mean that an intermediate result is being cached.\n",
            "100 loops, best of 3: 2.65 ms per loop\n"
          ],
          "name": "stdout"
        },
        {
          "output_type": "display_data",
          "data": {
            "image/png": "[encoded data removed]",
            "text/plain": [
              "<Figure size 432x288 with 1 Axes>"
            ]
          },
          "metadata": {
            "tags": []
          }
        }
      ]
    },
    {
      "metadata": {
        "id": "2xxFEgv6dJI8",
        "colab_type": "text"
      },
      "cell_type": "markdown",
      "source": [
        "How does the GPU implementation compare to the CPU version?"
      ]
    },
    {
      "metadata": {
        "id": "orIrqK_odD27",
        "colab_type": "code",
        "colab": {}
      },
      "cell_type": "code",
      "source": [
        ""
      ],
      "execution_count": 0,
      "outputs": []
    }
  ]
}