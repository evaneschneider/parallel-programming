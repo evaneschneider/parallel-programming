{
  "nbformat": 4,
  "nbformat_minor": 0,
  "metadata": {
    "colab": {
      "name": "cuda_julia_set.ipynb",
      "version": "0.3.2",
      "provenance": [],
      "collapsed_sections": [],
      "toc_visible": true,
      "include_colab_link": true
    },
    "kernelspec": {
      "name": "python3",
      "display_name": "Python 3"
    },
    "accelerator": "GPU"
  },
  "cells": [
    {
      "cell_type": "markdown",
      "metadata": {
        "id": "view-in-github",
        "colab_type": "text"
      },
      "source": [
        "<a href=\"https://colab.research.google.com/github/evaneschneider/parallel-programming/blob/master/cuda_julia_set.ipynb\" target=\"_parent\"><img src=\"https://colab.research.google.com/assets/colab-badge.svg\" alt=\"Open In Colab\"/></a>"
      ]
    },
    {
      "metadata": {
        "id": "TNAaaptVFD6o",
        "colab_type": "code",
        "outputId": "4a16895c-4bf7-4be8-dc51-3c07fa1962bc",
        "colab": {
          "base_uri": "https://localhost:8080/",
          "height": 85
        }
      },
      "cell_type": "code",
      "source": [
        "!/usr/local/cuda/bin/nvcc --version"
      ],
      "execution_count": 3,
      "outputs": [
        {
          "output_type": "stream",
          "text": [
            "nvcc: NVIDIA (R) Cuda compiler driver\n",
            "Copyright (c) 2005-2018 NVIDIA Corporation\n",
            "Built on Sat_Aug_25_21:08:01_CDT_2018\n",
            "Cuda compilation tools, release 10.0, V10.0.130\n"
          ],
          "name": "stdout"
        }
      ]
    },
    {
      "metadata": {
        "colab_type": "code",
        "id": "F_zdIqOjdXep",
        "colab": {
          "base_uri": "https://localhost:8080/",
          "height": 156
        },
        "outputId": "e95e9824-7253-4bcf-bdf4-449af8d511b0"
      },
      "cell_type": "code",
      "source": [
        "!pip install git+git://github.com/andreinechaev/nvcc4jupyter.git"
      ],
      "execution_count": 4,
      "outputs": [
        {
          "output_type": "stream",
          "text": [
            "Collecting git+git://github.com/andreinechaev/nvcc4jupyter.git\n",
            "  Cloning git://github.com/andreinechaev/nvcc4jupyter.git to /tmp/pip-req-build-kc6usr2q\n",
            "Requirement already satisfied (use --upgrade to upgrade): NVCCPlugin==0.0.2 from git+git://github.com/andreinechaev/nvcc4jupyter.git in /usr/local/lib/python3.6/dist-packages\n",
            "Building wheels for collected packages: NVCCPlugin\n",
            "  Building wheel for NVCCPlugin (setup.py) ... \u001b[?25ldone\n",
            "\u001b[?25h  Stored in directory: /tmp/pip-ephem-wheel-cache-mjfubjsa/wheels/10/c2/05/ca241da37bff77d60d31a9174f988109c61ba989e4d4650516\n",
            "Successfully built NVCCPlugin\n"
          ],
          "name": "stdout"
        }
      ]
    },
    {
      "metadata": {
        "id": "LqYHrt-DFP87",
        "colab_type": "code",
        "colab": {
          "base_uri": "https://localhost:8080/",
          "height": 51
        },
        "outputId": "acb01497-069c-42cc-b86e-6101502d2545"
      },
      "cell_type": "code",
      "source": [
        "%load_ext nvcc_plugin"
      ],
      "execution_count": 5,
      "outputs": [
        {
          "output_type": "stream",
          "text": [
            "directory /content/src already exists\n",
            "Out bin /content/result.out\n"
          ],
          "name": "stdout"
        }
      ]
    },
    {
      "metadata": {
        "id": "LIBJsZDzFWE8",
        "colab_type": "code",
        "outputId": "9664a73d-3566-45f0-a669-e975dab560cc",
        "colab": {
          "base_uri": "https://localhost:8080/",
          "height": 34
        }
      },
      "cell_type": "code",
      "source": [
        "%%cu\n",
        "#include <iostream>\n",
        "int main() {\n",
        "    std::cout << \"Hello world!\";\n",
        "    return 0;\n",
        "}"
      ],
      "execution_count": 6,
      "outputs": [
        {
          "output_type": "execute_result",
          "data": {
            "text/plain": [
              "'Hello world!'"
            ]
          },
          "metadata": {
            "tags": []
          },
          "execution_count": 6
        }
      ]
    },
    {
      "metadata": {
        "id": "RGextq50nrbZ",
        "colab_type": "code",
        "outputId": "f071340c-1f8b-4cac-fda4-20e0e092985e",
        "colab": {
          "base_uri": "https://localhost:8080/",
          "height": 34
        }
      },
      "cell_type": "code",
      "source": [
        "%%cu\n",
        "#include<stdio.h>\n",
        "#include<stdlib.h>\n",
        "#include<iostream>\n",
        "\n",
        "#define DIM 1000\n",
        "\n",
        "struct cuComplex { \n",
        "  float r; \n",
        "  float i;\n",
        "  __device__ cuComplex( float a, float b ) : r(a), i(b) {} \n",
        "  __device__ float magnitude2( void ) {\n",
        "    return r * r + i * i;\n",
        "  }\n",
        "  __device__ cuComplex operator*(const cuComplex& a) {\n",
        "    return cuComplex(r*a.r - i*a.i, i*a.r + r*a.i);\n",
        "  }\n",
        "  __device__ cuComplex operator+(const cuComplex& a) {\n",
        "    return cuComplex(r+a.r, i+a.i);\n",
        "  }\n",
        "};\n",
        "\n",
        "__device__ int julia( int x, int y ) {\n",
        "  const float scale = 1.5;\n",
        "  float jx = scale * (float)(DIM/2 - x)/(DIM/2);\n",
        "  float jy = scale * (float)(DIM/2 - y)/(DIM/2);\n",
        "  cuComplex c(-0.8, 0.156);\n",
        "  cuComplex a(jx, jy);\n",
        "  int i = 0;\n",
        "  for (i=0; i<200; i++) {\n",
        "    a = a * a + c;\n",
        "    if (a.magnitude2() > 1000)\n",
        "      return 0;\n",
        "  }\n",
        "  return 1;\n",
        "}\n",
        "\n",
        "__global__ void kernel( int *ptr ) {\n",
        "\n",
        "  // map from threadIdx/BlockIdx to pixel position \n",
        "  int x = blockIdx.x;\n",
        "  int y = blockIdx.y;\n",
        "  int offset = x + y * gridDim.x;\n",
        "  \n",
        "  // now calculate the value at that position\n",
        "  int juliaValue = julia( x, y ); \n",
        "  ptr[offset] = juliaValue;\n",
        "    \n",
        "}\n",
        "\n",
        "int main( void ) {\n",
        "\n",
        "  int bitmap[DIM*DIM];\n",
        "    \n",
        "  int *dev_bitmap;\n",
        "  cudaMalloc( (void**)&dev_bitmap, DIM*DIM*sizeof(int) );\n",
        "  dim3    grid(DIM,DIM);\n",
        "  kernel<<<grid,1>>>( dev_bitmap );\n",
        "  cudaMemcpy( bitmap, dev_bitmap, DIM*DIM*sizeof(int), cudaMemcpyDeviceToHost );\n",
        "  cudaFree( dev_bitmap );\n",
        "    \n",
        "  //for (int i=0; i<DIM*DIM; i++) printf(\"%d \", bitmap[i]);\n",
        "  \n",
        "    \n",
        "  FILE *myfile;\n",
        "  myfile=fopen(\"/tmp/test.bin\",\"wb\");\n",
        "  if (!myfile) {\n",
        "\t  printf(\"Unable to open file!\");\n",
        "\t  return 1;\n",
        "\t}\n",
        "  fwrite(bitmap, sizeof(int), DIM*DIM, myfile);\n",
        "  fclose(myfile);\n",
        "    \n",
        "  std::cout << \"Success!\";\n",
        "}"
      ],
      "execution_count": 7,
      "outputs": [
        {
          "output_type": "execute_result",
          "data": {
            "text/plain": [
              "'Success!'"
            ]
          },
          "metadata": {
            "tags": []
          },
          "execution_count": 7
        }
      ]
    },
    {
      "metadata": {
        "id": "98rMyqVOvtnW",
        "colab_type": "code",
        "outputId": "f8f2304a-281f-4ff8-9921-ab1fd8602963",
        "colab": {
          "base_uri": "https://localhost:8080/",
          "height": 504
        }
      },
      "cell_type": "code",
      "source": [
        "import matplotlib.pyplot as plt\n",
        "import numpy as np\n",
        "\n",
        "bitmap = np.fromfile('/tmp/test.bin', dtype=np.int32)\n",
        "image = np.reshape(bitmap, (1000,1000))\n",
        "\n",
        "fig = plt.figure(figsize=(8,8))\n",
        "ax = fig.add_subplot(111)\n",
        "ax.imshow(image, origin=\"lower\")"
      ],
      "execution_count": 28,
      "outputs": [
        {
          "output_type": "execute_result",
          "data": {
            "text/plain": [
              "<matplotlib.image.AxesImage at 0x7fd053eff828>"
            ]
          },
          "metadata": {
            "tags": []
          },
          "execution_count": 28
        },
        {
          "output_type": "display_data",
          "data": {
            "image/png": "[encoded data removed]",
            "text/plain": [
              "<Figure size 576x576 with 1 Axes>"
            ]
          },
          "metadata": {
            "tags": []
          }
        }
      ]
    },
    {
      "metadata": {
        "id": "m6dvvGPtdsko",
        "colab_type": "code",
        "outputId": "3cfd1f56-30c5-402b-ca68-9b37e1d022c0",
        "colab": {
          "base_uri": "https://localhost:8080/",
          "height": 65
        }
      },
      "cell_type": "code",
      "source": [
        "!rm /tmp/test.bin"
      ],
      "execution_count": 0,
      "outputs": [
        {
          "output_type": "stream",
          "text": [
            "rm: cannot remove '/tmp/test.bin': No such file or directory\n"
          ],
          "name": "stdout"
        }
      ]
    }
  ]
}