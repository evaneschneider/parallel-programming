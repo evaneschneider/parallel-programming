{
  "nbformat": 4,
  "nbformat_minor": 0,
  "metadata": {
    "colab": {
      "name": "parallel_intro.ipynb",
      "version": "0.3.2",
      "provenance": []
    },
    "kernelspec": {
      "display_name": "Python 3",
      "language": "python",
      "name": "python3"
    }
  },
  "cells": [
    {
      "metadata": {
        "id": "ZYG2dnOdZAo-",
        "colab_type": "text"
      },
      "cell_type": "markdown",
      "source": [
        "#Introduction to Numba"
      ]
    },
    {
      "metadata": {
        "id": "QhOEOS-i3fWK",
        "colab_type": "text"
      },
      "cell_type": "markdown",
      "source": [
        "##What is Numba?\n",
        "Numba is a **just-in-time**, **type-specializing**, **function compiler** for accelerating **numerically-focused** Python. That's a long list, so let's break down those terms:\n",
        "\n",
        "+ **function compiler**: Numba compiles Python functions, not entire applications, and not parts of functions. Numba does not replace your Python interpreter, but is just another Python module that can turn a function into a (usually) faster function.\n",
        "+ **type-specializing**: Numba speeds up your function by generating a specialized implementation for the specific data types you are using. Python functions are designed to operate on generic data types, which makes them very flexible, but also very slow. In practice, you only will call a function with a small number of argument types, so Numba will generate a fast implementation for each set of types.\n",
        "+ **just-in-time**: Numba translates functions when they are first called. This ensures the compiler knows what argument types you will be using. This also allows Numba to be used interactively in a Jupyter notebook just as easily as a traditional application\n",
        "+ **numerically-focused**: Currently, Numba is focused on numerical data types, like int, float, and complex. There is very limited string processing support, and many string use cases are not going to work well on the GPU. To get best results with Numba, you will likely be using NumPy arrays."
      ]
    },
    {
      "metadata": {
        "id": "1RJKUjv94nPk",
        "colab_type": "text"
      },
      "cell_type": "markdown",
      "source": [
        "###First Steps\n",
        "Let's write our first Numba function and compile it for the CPU. The Numba compiler is typically enabled by applying a decorator to a Python function. Decorators are functions that transform Python functions. Here we will use the CPU compilation decorator:"
      ]
    },
    {
      "metadata": {
        "id": "XRkaEvg7ZApB",
        "colab_type": "code",
        "colab": {}
      },
      "cell_type": "code",
      "source": [
        "from numba import jit\n",
        "import math\n",
        "import numpy as np"
      ],
      "execution_count": 0,
      "outputs": []
    },
    {
      "metadata": {
        "id": "aLs0bLISaQKI",
        "colab_type": "code",
        "colab": {}
      },
      "cell_type": "code",
      "source": [
        "@jit\n",
        "def hypot(x, y):\n",
        "  # Implementation from https://en.wikipedia.org/wiki/Hypot\n",
        "  x = abs(x);\n",
        "  y = abs(y);\n",
        "  t = min(x, y);\n",
        "  x = max(x, y);\n",
        "  t = t / x;\n",
        "  return x * math.sqrt(1+t*t)"
      ],
      "execution_count": 0,
      "outputs": []
    },
    {
      "metadata": {
        "id": "FMSS8VjX5sLW",
        "colab_type": "text"
      },
      "cell_type": "markdown",
      "source": [
        "Let's try out our hypotenuse calculation:"
      ]
    },
    {
      "metadata": {
        "id": "gEPLJ9yybPI4",
        "colab_type": "code",
        "colab": {
          "base_uri": "https://localhost:8080/",
          "height": 34
        },
        "outputId": "859d8212-8780-495f-a773-7f09c02e330d"
      },
      "cell_type": "code",
      "source": [
        "hypot(3.0,4.0)"
      ],
      "execution_count": 7,
      "outputs": [
        {
          "output_type": "execute_result",
          "data": {
            "text/plain": [
              "5.0"
            ]
          },
          "metadata": {
            "tags": []
          },
          "execution_count": 7
        }
      ]
    },
    {
      "metadata": {
        "id": "5y0t6qIW5xKf",
        "colab_type": "text"
      },
      "cell_type": "markdown",
      "source": [
        "The first time we call `hypot`, the compiler is triggered and compiles a machine code implementation for float inputs. Numba also saves the original Python implementation of the function in the `.py_func` attribute, so we can call the original Python code to make sure we get the same answer:"
      ]
    },
    {
      "metadata": {
        "id": "QbL0OpgLcTnV",
        "colab_type": "code",
        "colab": {
          "base_uri": "https://localhost:8080/",
          "height": 34
        },
        "outputId": "53b158b7-50e7-40c4-8627-1d9f0df835ca"
      },
      "cell_type": "code",
      "source": [
        "hypot.py_func(3.0,4.0)"
      ],
      "execution_count": 6,
      "outputs": [
        {
          "output_type": "execute_result",
          "data": {
            "text/plain": [
              "5.0"
            ]
          },
          "metadata": {
            "tags": []
          },
          "execution_count": 6
        }
      ]
    },
    {
      "metadata": {
        "id": "vhpnEWXr6teY",
        "colab_type": "text"
      },
      "cell_type": "markdown",
      "source": [
        "###Benchmarking\n",
        "An important part of using Numba is measuring the performance of your new code. Let's see if we actually sped anything up. The easiest way to do this in the Jupyter notebook is to use the `%timeit` magic function. Let's first measure the speed of the original Python:"
      ]
    },
    {
      "metadata": {
        "id": "uUZMEOVg6gBU",
        "colab_type": "code",
        "colab": {
          "base_uri": "https://localhost:8080/",
          "height": 51
        },
        "outputId": "1b4e370a-a8d6-4c04-98f6-2ae7e7c6f285"
      },
      "cell_type": "code",
      "source": [
        "%timeit hypot.py_func(3.0,4.0)"
      ],
      "execution_count": 9,
      "outputs": [
        {
          "output_type": "stream",
          "text": [
            "The slowest run took 16.63 times longer than the fastest. This could mean that an intermediate result is being cached.\n",
            "1000000 loops, best of 3: 867 ns per loop\n"
          ],
          "name": "stdout"
        }
      ]
    },
    {
      "metadata": {
        "id": "Znv8bFVr7Fnt",
        "colab_type": "text"
      },
      "cell_type": "markdown",
      "source": [
        "The `%timeit` magic runs the statement many times to get an accurate estimate of the run time. It also returns the best time by default, which is useful to reduce the probability that random background events affect your measurement. The best of 3 approach also ensures that the compilation time on the first call doesn't skew the results:"
      ]
    },
    {
      "metadata": {
        "id": "JH9Dx_kS7ImG",
        "colab_type": "code",
        "colab": {
          "base_uri": "https://localhost:8080/",
          "height": 51
        },
        "outputId": "05a493da-5aa5-4b3b-a65a-7112f40c482b"
      },
      "cell_type": "code",
      "source": [
        "%timeit hypot(3.0,4.0)"
      ],
      "execution_count": 10,
      "outputs": [
        {
          "output_type": "stream",
          "text": [
            "The slowest run took 31.32 times longer than the fastest. This could mean that an intermediate result is being cached.\n",
            "1000000 loops, best of 3: 273 ns per loop\n"
          ],
          "name": "stdout"
        }
      ]
    },
    {
      "metadata": {
        "id": "VB1noZjr7fcm",
        "colab_type": "text"
      },
      "cell_type": "markdown",
      "source": [
        "Numba did a pretty good job with this function. It's more than 4x faster than the pure Python version.\n",
        "Of course, the hypot function is already present in the Python module:"
      ]
    },
    {
      "metadata": {
        "id": "4PR_nYEV7MgY",
        "colab_type": "code",
        "colab": {
          "base_uri": "https://localhost:8080/",
          "height": 51
        },
        "outputId": "ea93ce42-5b8d-4cf4-98ae-6d8e6c19db35"
      },
      "cell_type": "code",
      "source": [
        "%timeit math.hypot(3.0,4.0)"
      ],
      "execution_count": 11,
      "outputs": [
        {
          "output_type": "stream",
          "text": [
            "The slowest run took 135.87 times longer than the fastest. This could mean that an intermediate result is being cached.\n",
            "10000000 loops, best of 3: 170 ns per loop\n"
          ],
          "name": "stdout"
        }
      ]
    },
    {
      "metadata": {
        "id": "u2497k7a7vt_",
        "colab_type": "text"
      },
      "cell_type": "markdown",
      "source": [
        "Python's built-in is even faster than Numba! This is because Numba does introduce some overhead to each function call that is larger than the function call overhead of Python itself. Extremely fast functions (like the above one) will be hurt by this.\n",
        "(However, if you call one Numba function from another one, there is very little function overhead, sometimes even zero if the compiler inlines the function into the other one.)"
      ]
    },
    {
      "metadata": {
        "id": "XkhjCZVU7xKb",
        "colab_type": "code",
        "colab": {}
      },
      "cell_type": "code",
      "source": [
        ""
      ],
      "execution_count": 0,
      "outputs": []
    }
  ]
}