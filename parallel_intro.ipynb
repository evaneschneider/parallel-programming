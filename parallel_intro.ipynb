{
  "nbformat": 4,
  "nbformat_minor": 0,
  "metadata": {
    "colab": {
      "name": "parallel_intro.ipynb",
      "version": "0.3.2",
      "provenance": []
    },
    "kernelspec": {
      "display_name": "Python 3",
      "language": "python",
      "name": "python3"
    }
  },
  "cells": [
    {
      "metadata": {
        "id": "ZYG2dnOdZAo-",
        "colab_type": "text"
      },
      "cell_type": "markdown",
      "source": [
        "#Introduction to Numba"
      ]
    },
    {
      "metadata": {
        "id": "QhOEOS-i3fWK",
        "colab_type": "text"
      },
      "cell_type": "markdown",
      "source": [
        "##What is Numba?\n",
        "Numba is a **just-in-time**, **type-specializing**, **function compiler** for accelerating **numerically-focused** Python. That's a long list, so let's break down those terms:\n",
        "\n",
        "+ **function compiler**: Numba compiles Python functions, not entire applications, and not parts of functions. Numba does not replace your Python interpreter, but is just another Python module that can turn a function into a (usually) faster function.\n",
        "+ **type-specializing**: Numba speeds up your function by generating a specialized implementation for the specific data types you are using. Python functions are designed to operate on generic data types, which makes them very flexible, but also very slow. In practice, you only will call a function with a small number of argument types, so Numba will generate a fast implementation for each set of types.\n",
        "+ **just-in-time**: Numba translates functions when they are first called. This ensures the compiler knows what argument types you will be using. This also allows Numba to be used interactively in a Jupyter notebook just as easily as a traditional application\n",
        "+ **numerically-focused**: Currently, Numba is focused on numerical data types, like int, float, and complex. There is very limited string processing support, and many string use cases are not going to work well on the GPU. To get best results with Numba, you will likely be using NumPy arrays."
      ]
    },
    {
      "metadata": {
        "id": "1RJKUjv94nPk",
        "colab_type": "text"
      },
      "cell_type": "markdown",
      "source": [
        "###First Steps\n",
        "Let's write our first Numba function and compile it for the CPU. The Numba compiler is typically enabled by applying a decorator to a Python function. Decorators are functions that transform Python functions. Here we will use the CPU compilation decorator:"
      ]
    },
    {
      "metadata": {
        "id": "XRkaEvg7ZApB",
        "colab_type": "code",
        "colab": {}
      },
      "cell_type": "code",
      "source": [
        "from numba import jit\n",
        "import math\n",
        "import numpy as np"
      ],
      "execution_count": 0,
      "outputs": []
    },
    {
      "metadata": {
        "id": "aLs0bLISaQKI",
        "colab_type": "code",
        "colab": {}
      },
      "cell_type": "code",
      "source": [
        "@jit\n",
        "def hypot(x, y):\n",
        "  # Implementation from https://en.wikipedia.org/wiki/Hypot\n",
        "  x = abs(x);\n",
        "  y = abs(y);\n",
        "  t = min(x, y);\n",
        "  x = max(x, y);\n",
        "  t = t / x;\n",
        "  return x * math.sqrt(1+t*t)"
      ],
      "execution_count": 0,
      "outputs": []
    },
    {
      "metadata": {
        "id": "FMSS8VjX5sLW",
        "colab_type": "text"
      },
      "cell_type": "markdown",
      "source": [
        "Let's try out our hypotenuse calculation:"
      ]
    },
    {
      "metadata": {
        "id": "gEPLJ9yybPI4",
        "colab_type": "code",
        "colab": {
          "base_uri": "https://localhost:8080/",
          "height": 34
        },
        "outputId": "f848532a-a57c-41d9-b70a-ebd878bc6cf3"
      },
      "cell_type": "code",
      "source": [
        "hypot(3.0,4.0)"
      ],
      "execution_count": 3,
      "outputs": [
        {
          "output_type": "execute_result",
          "data": {
            "text/plain": [
              "5.0"
            ]
          },
          "metadata": {
            "tags": []
          },
          "execution_count": 3
        }
      ]
    },
    {
      "metadata": {
        "id": "5y0t6qIW5xKf",
        "colab_type": "text"
      },
      "cell_type": "markdown",
      "source": [
        "The first time we call `hypot`, the compiler is triggered and compiles a machine code implementation for float inputs. Numba also saves the original Python implementation of the function in the `.py_func` attribute, so we can call the original Python code to make sure we get the same answer:"
      ]
    },
    {
      "metadata": {
        "id": "QbL0OpgLcTnV",
        "colab_type": "code",
        "colab": {
          "base_uri": "https://localhost:8080/",
          "height": 34
        },
        "outputId": "c28028af-69b0-406d-aae2-6261d500969d"
      },
      "cell_type": "code",
      "source": [
        "hypot.py_func(3.0,4.0)"
      ],
      "execution_count": 4,
      "outputs": [
        {
          "output_type": "execute_result",
          "data": {
            "text/plain": [
              "5.0"
            ]
          },
          "metadata": {
            "tags": []
          },
          "execution_count": 4
        }
      ]
    },
    {
      "metadata": {
        "id": "vhpnEWXr6teY",
        "colab_type": "text"
      },
      "cell_type": "markdown",
      "source": [
        "###Benchmarking\n",
        "An important part of using Numba is measuring the performance of your new code. Let's see if we actually sped anything up. The easiest way to do this in the Jupyter notebook is to use the `%timeit` magic function. Let's first measure the speed of the original Python:"
      ]
    },
    {
      "metadata": {
        "id": "uUZMEOVg6gBU",
        "colab_type": "code",
        "colab": {
          "base_uri": "https://localhost:8080/",
          "height": 34
        },
        "outputId": "dfe90885-f2db-4cac-add4-388cce849c65"
      },
      "cell_type": "code",
      "source": [
        "%timeit hypot.py_func(3.0,4.0)"
      ],
      "execution_count": 5,
      "outputs": [
        {
          "output_type": "stream",
          "text": [
            "653 ns ± 2.87 ns per loop (mean ± std. dev. of 7 runs, 1000000 loops each)\n"
          ],
          "name": "stdout"
        }
      ]
    },
    {
      "metadata": {
        "id": "Znv8bFVr7Fnt",
        "colab_type": "text"
      },
      "cell_type": "markdown",
      "source": [
        "The `%timeit` magic runs the statement many times to get an accurate estimate of the run time. It also returns the best time by default, which is useful to reduce the probability that random background events affect your measurement. The best of 3 approach also ensures that the compilation time on the first call doesn't skew the results:"
      ]
    },
    {
      "metadata": {
        "id": "JH9Dx_kS7ImG",
        "colab_type": "code",
        "colab": {
          "base_uri": "https://localhost:8080/",
          "height": 34
        },
        "outputId": "0997e3f6-dd5b-4ba9-ca76-1c1a7cd9fe89"
      },
      "cell_type": "code",
      "source": [
        "%timeit hypot(3.0,4.0)"
      ],
      "execution_count": 6,
      "outputs": [
        {
          "output_type": "stream",
          "text": [
            "149 ns ± 1.08 ns per loop (mean ± std. dev. of 7 runs, 10000000 loops each)\n"
          ],
          "name": "stdout"
        }
      ]
    },
    {
      "metadata": {
        "id": "VB1noZjr7fcm",
        "colab_type": "text"
      },
      "cell_type": "markdown",
      "source": [
        "Numba did a pretty good job with this function. It's more than 4x faster than the pure Python version.\n",
        "Of course, the hypot function is already present in the Python module:"
      ]
    },
    {
      "metadata": {
        "id": "4PR_nYEV7MgY",
        "colab_type": "code",
        "colab": {
          "base_uri": "https://localhost:8080/",
          "height": 34
        },
        "outputId": "a4c7a55a-2c1f-4b91-d4cb-e9e27742fb66"
      },
      "cell_type": "code",
      "source": [
        "%timeit math.hypot(3.0,4.0)"
      ],
      "execution_count": 7,
      "outputs": [
        {
          "output_type": "stream",
          "text": [
            "118 ns ± 1.34 ns per loop (mean ± std. dev. of 7 runs, 10000000 loops each)\n"
          ],
          "name": "stdout"
        }
      ]
    },
    {
      "metadata": {
        "id": "u2497k7a7vt_",
        "colab_type": "text"
      },
      "cell_type": "markdown",
      "source": [
        "Python's built-in is even faster than Numba! This is because Numba does introduce some overhead to each function call that is larger than the function call overhead of Python itself. Extremely fast functions (like the above one) will be hurt by this.\n",
        "(However, if you call one Numba function from another one, there is very little function overhead, sometimes even zero if the compiler inlines the function into the other one.)"
      ]
    },
    {
      "metadata": {
        "id": "HRaHu_Q_906t",
        "colab_type": "text"
      },
      "cell_type": "markdown",
      "source": [
        "###Problem 1\n",
        "Below is a function that loops over two input NumPy arrays and puts their sum into the output array. Modify this function to call the `hypot` function we defined above. We will learn a more efficient way to write such functions in a future section.\n",
        "(Make sure to execute all the cells in this notebook so that hypot is defined.)"
      ]
    },
    {
      "metadata": {
        "id": "XkhjCZVU7xKb",
        "colab_type": "code",
        "colab": {}
      },
      "cell_type": "code",
      "source": [
        "@jit(nopython=True)\n",
        "def ex1(x, y, out):\n",
        "    for i in range(x.shape[0]):\n",
        "        out[i] = hypot(x[i], y[i])"
      ],
      "execution_count": 0,
      "outputs": []
    },
    {
      "metadata": {
        "id": "dFmWKT7a-ARl",
        "colab_type": "code",
        "colab": {
          "base_uri": "https://localhost:8080/",
          "height": 85
        },
        "outputId": "aeacce7f-9dc4-4b7b-f458-e513e2b0f83a"
      },
      "cell_type": "code",
      "source": [
        "in1 = np.arange(10, dtype=np.float64)\n",
        "in2 = 2 * in1 + 1\n",
        "out = np.empty_like(in1)\n",
        "\n",
        "print('in1:', in1)\n",
        "print('in2:', in2)\n",
        "\n",
        "ex1(in1, in2, out)\n",
        "\n",
        "print('out:', out)"
      ],
      "execution_count": 12,
      "outputs": [
        {
          "output_type": "stream",
          "text": [
            "in1: [0. 1. 2. 3. 4. 5. 6. 7. 8. 9.]\n",
            "in2: [ 1.  3.  5.  7.  9. 11. 13. 15. 17. 19.]\n",
            "out: [ 1.          3.16227766  5.38516481  7.61577311  9.8488578  12.08304597\n",
            " 14.31782106 16.55294536 18.78829423 21.02379604]\n"
          ],
          "name": "stdout"
        }
      ]
    },
    {
      "metadata": {
        "id": "6kGtHjR9-Ia3",
        "colab_type": "code",
        "colab": {}
      },
      "cell_type": "code",
      "source": [
        "# This test will fail until you fix the ex1 function\n",
        "np.testing.assert_almost_equal(out, np.hypot(in1, in2))"
      ],
      "execution_count": 0,
      "outputs": []
    },
    {
      "metadata": {
        "id": "isZqZ2qU-M4x",
        "colab_type": "code",
        "colab": {}
      },
      "cell_type": "code",
      "source": [
        ""
      ],
      "execution_count": 0,
      "outputs": []
    }
  ]
}